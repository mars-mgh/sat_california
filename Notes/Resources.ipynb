{
 "cells": [
  {
   "cell_type": "markdown",
   "metadata": {},
   "source": [
    "**Resources**"
   ]
  },
  {
   "cell_type": "markdown",
   "metadata": {},
   "source": [
    "READ ME FOR CA DATA\n",
    "\n",
    "\n",
    "https://www.cde.ca.gov/ds/sd/sd/fsacgr.asp "
   ]
  },
  {
   "cell_type": "markdown",
   "metadata": {},
   "source": [
    "California education comparison\n",
    "http://www.ed-data.org/Comparisons?compType=districts"
   ]
  },
  {
   "cell_type": "markdown",
   "metadata": {
    "ExecuteTime": {
     "end_time": "2020-12-27T21:35:46.097788Z",
     "start_time": "2020-12-27T21:35:46.094201Z"
    }
   },
   "source": [
    "https://edsource.org/2019/search-and-compare-data-from-the-california-school-dashboard-2019/620992"
   ]
  },
  {
   "cell_type": "markdown",
   "metadata": {},
   "source": [
    "https://www.cde.ca.gov/ds/dd/"
   ]
  },
  {
   "cell_type": "markdown",
   "metadata": {},
   "source": [
    "**Project Statement**\n",
    "\n",
    "We hypotize that SAT score is highly related to students wealth. This project analyzes the correlation between SAT and federal students loan in California."
   ]
  },
  {
   "cell_type": "markdown",
   "metadata": {},
   "source": [
    "**Background**\n",
    "\n",
    "University of California wants to introduce a new test for its Admission Process by 2025.\n",
    "UC decision is part of a wider debate in California: for two times the California Assembly has voted a Bill that would have replaced the California State Assesment Requirement (CAASPP) with SAT in Grade 12, but both times the bill was vetoed by the Governor (frist Brown, more recently Newsom).\n",
    "Arguments in favour of CAASPP is that it should be less biased towards students from underrepresented social groups. Also, SAT has recently introduced a \"Hardship Score\" to normalize the diffculties some students have duing their highschool years.\n",
    "\n",
    "Since 2016-17 some Counties and Districts decided to offer SAT for free to their students [*source*](https://www.documentcloud.org/documents/3914482-California-Districts-Free-College-Entrance2016-17.html).\n",
    "\n",
    "The project compares participation rate and performace in these Districts with others in California, and in particolare with San Mateo Unionified School District."
   ]
  },
  {
   "cell_type": "markdown",
   "metadata": {},
   "source": [
    "https://www.universityofcalifornia.edu/press-room/university-california-board-regents-approves-changes-standardized-testing-requirement"
   ]
  },
  {
   "cell_type": "markdown",
   "metadata": {},
   "source": [
    "https://senate.universityofcalifornia.edu/_files/underreview/sttf-report.pdf"
   ]
  },
  {
   "cell_type": "markdown",
   "metadata": {},
   "source": [
    "https://regents.universityofcalifornia.edu/regmeet/may20/b4attach2.pdf"
   ]
  },
  {
   "cell_type": "markdown",
   "metadata": {},
   "source": [
    "https://edsource.org/2019/gov-newsom-vetoes-allowing-districts-to-substitute-sat-for-11th-grade-state-test/618525\n",
    "Legislation Status\n",
    "http://leginfo.legislature.ca.gov/faces/billStatusClient.xhtml?bill_id=201920200AB751"
   ]
  },
  {
   "cell_type": "markdown",
   "metadata": {
    "ExecuteTime": {
     "end_time": "2020-12-27T22:12:14.035314Z",
     "start_time": "2020-12-27T22:12:14.032635Z"
    }
   },
   "source": [
    "https://reports.collegeboard.org/sat-suite-program-results\n",
    "https://www.cde.ca.gov/ta/tg/sa/"
   ]
  },
  {
   "cell_type": "markdown",
   "metadata": {
    "ExecuteTime": {
     "end_time": "2020-12-27T22:12:51.768122Z",
     "start_time": "2020-12-27T22:12:51.765317Z"
    }
   },
   "source": [
    "Smarter Balanced Assessment System\n",
    "Comparison with SAT/ ACT"
   ]
  },
  {
   "cell_type": "markdown",
   "metadata": {},
   "source": [
    "Demographics \n",
    "https://datausa.io/profile/geo/california/#economy\n",
    "https://worldpopulationreview.com/us-counties/states/ca"
   ]
  },
  {
   "cell_type": "markdown",
   "metadata": {},
   "source": [
    "DATA ON K-12 EDUCATION CALIFORNIA\n",
    "\n",
    "https://www.ppic.org/data-depot/#k-12-education"
   ]
  },
  {
   "cell_type": "markdown",
   "metadata": {},
   "source": [
    "College Student Debt and Anticipated Repayment Difficulty\n",
    "\n",
    "https://lib.dr.iastate.edu/cgi/viewcontent.cgi?article=1051&context=hdfs_pubs\n",
    "\n",
    "https://public.tableau.com/profile/tom.dehnel#!/vizhome/UniversityDebtRankings/ScatterplotSAT"
   ]
  },
  {
   "cell_type": "markdown",
   "metadata": {},
   "source": [
    "https://nces.ed.gov/pubs2020/2020144.pdf"
   ]
  },
  {
   "cell_type": "markdown",
   "metadata": {
    "ExecuteTime": {
     "end_time": "2021-01-02T21:00:41.042638Z",
     "start_time": "2021-01-02T21:00:41.024807Z"
    }
   },
   "source": [
    "**ACGR**"
   ]
  },
  {
   "cell_type": "code",
   "execution_count": null,
   "metadata": {},
   "outputs": [],
   "source": [
    "msno.matrix(acgr17.sample(250));\n",
    "msno.matrix(acgr18.sample(250));\n",
    "msno.matrix(acgr19.sample(250));"
   ]
  },
  {
   "cell_type": "code",
   "execution_count": null,
   "metadata": {},
   "outputs": [],
   "source": [
    "acgr17.dtypes\n",
    "acgr18.dtypes\n",
    "acgr19.dtypes"
   ]
  },
  {
   "cell_type": "code",
   "execution_count": null,
   "metadata": {},
   "outputs": [],
   "source": [
    "acgr17.count()"
   ]
  }
 ],
 "metadata": {
  "kernelspec": {
   "display_name": "Python 3",
   "language": "python",
   "name": "python3"
  },
  "language_info": {
   "codemirror_mode": {
    "name": "ipython",
    "version": 3
   },
   "file_extension": ".py",
   "mimetype": "text/x-python",
   "name": "python",
   "nbconvert_exporter": "python",
   "pygments_lexer": "ipython3",
   "version": "3.8.5"
  }
 },
 "nbformat": 4,
 "nbformat_minor": 4
}
