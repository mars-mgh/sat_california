{
 "cells": [
  {
   "cell_type": "markdown",
   "metadata": {},
   "source": [
    "<img src=\"http://imgur.com/1ZcRyrc.png\" style=\"float: left; margin: 20px; height: 55px\">\n",
    "\n",
    "# Project 1: Standardized Test Analysis"
   ]
  },
  {
   "cell_type": "markdown",
   "metadata": {},
   "source": [
    "--- \n",
    "# Part 1\n",
    "\n",
    "Part 1 requires knowledge of basic Python.\n",
    "\n",
    "---"
   ]
  },
  {
   "cell_type": "markdown",
   "metadata": {},
   "source": [
    "## Problem Statement"
   ]
  },
  {
   "cell_type": "markdown",
   "metadata": {},
   "source": [
    "This project compares ACT dn SAT results in the school districts and counties of California over three Accademic Years (2016/17, 2017/18 and 2018/19). The analysis at County and District level addresses San Mateo Union High School Union in understanding the efficacy of its support to students."
   ]
  },
  {
   "cell_type": "markdown",
   "metadata": {},
   "source": [
    "### Contents:\n",
    "- [Background](#Background)\n",
    "- [Data Import & Cleaning](#Data-Import-and-Cleaning)\n",
    "- [Exploratory Data Analysis](#Exploratory-Data-Analysis)\n",
    "- [Data Visualization](#Visualize-the-Data)\n",
    "- [Conclusions and Recommendations](#Conclusions-and-Recommendations)"
   ]
  },
  {
   "cell_type": "markdown",
   "metadata": {},
   "source": [
    "## Background"
   ]
  },
  {
   "cell_type": "markdown",
   "metadata": {},
   "source": [
    "The SAT and ACT are standardized tests that many colleges and universities in the United States require for their admissions process. This score is used along with other materials such as grade point average (GPA) and essay responses to determine whether or not a potential student will be accepted to the university.\n",
    "\n",
    "The SAT has two sections of the test: Evidence-Based Reading and Writing and Math ([*source*](https://www.princetonreview.com/college/sat-sections)). The ACT has 4 sections: English, Mathematics, Reading, and Science, with an additional optional writing section ([*source*](https://www.act.org/content/act/en/products-and-services/the-act/scores/understanding-your-scores.html)). They have different score ranges, which you can read more about on their websites:\n",
    "* [SAT](https://collegereadiness.collegeboard.org/sat)\n",
    "* [ACT](https://www.act.org/content/act/en.html)\n",
    "\n",
    "Standardized tests have long been a controversial topic for students, administrators, and legislators. Since the 1940's, an increasing number of colleges have been using scores from sudents' performances on tests like the SAT and the ACT as a measure for college readiness and aptitude ([*source*](https://www.minotdailynews.com/news/local-news/2017/04/a-brief-history-of-the-sat-and-act/)). Supporters of these tests argue that these scores can be used as an objective measure to determine college admittance. Opponents of these tests claim that these tests are not accurate measures of students potential or ability and serve as an inequitable barrier to entry. Lately, more and more schools are opting to drop the SAT/ACT requirement for their Fall 2021 applications ([*read more about this here*](https://www.cnn.com/2020/04/14/us/coronavirus-colleges-sat-act-test-trnd/index.html)).\n",
    "\n",
    "**California**\n",
    "\n",
    "University of California has announced a new test for its Admission Process by 2025.\n",
    "UC decision is part of a wider debate in California: for two times the California Assembly has voted a Bill that would have replaced the California State Assesment Requirement (CAASPP) with SAT in Grade 12, but both times the bill was vetoed by the Governor (frist Brown, more recently Newsom).\n",
    "Arguments in favour of CAASPP is that it should be less biased towards students from underrepresented social groups. Also, SAT has recently introduced a \"Hardship Score\" to normalize the diffculties some students have duing their highschool years.\n",
    "\n",
    "Since 2016-17 some Counties and Districts decided to offer SAT for free to their students [*source*](https://www.documentcloud.org/documents/3914482-California-Districts-Free-College-Entrance2016-17.html).\n",
    "\n",
    "The project compares participation rate and performace in these Districts with others in California, and in particolare with San Mateo Unionified School District."
   ]
  },
  {
   "cell_type": "markdown",
   "metadata": {},
   "source": [
    "### Data Sources\n",
    "\n",
    "This project analysis\n",
    "is based on the following data sets:\n",
    "\n",
    "* [`sat_2017_ca.csv`](./data/sat_2017_ca.csv): SAT Scores in California by School - AY 2016-17\n",
    "\n",
    "* [`sat_2018_ca.csv`](./data/sat_2018_ca.csv): SAT Scores in California by School - AY 2017-18\n",
    "\n",
    "* [`sat_2019_ca.csv`](./data/sat_2019_ca.csv): SAT Scores in California by School - AY 2018-19\n",
    "\n",
    "* [`act_2017_ca.csv`](./data/act_2017_ca.csv): ACT Scores in California by School - AY 2016-17\n",
    "\n",
    "* [`act_2018_ca.csv`](./data/act_2018_ca.csv): ACT Scores in California by School - AY 2017-18\n",
    "\n",
    "* [`act_2019_ca.csv`](./data/act_2019_ca.csv): ACT Scores in California by School - AY 2018-19\n",
    "\n",
    "\n",
    "\n",
    "* [`income_ca.csv`](./data/income_ca.csv):Per Capita Annual Income per California County in 2018 - Employment Development Department State of California Data"
   ]
  },
  {
   "cell_type": "markdown",
   "metadata": {},
   "source": [
    "### Outside Research"
   ]
  },
  {
   "cell_type": "markdown",
   "metadata": {},
   "source": [
    "Based on your problem statement and your chosen datasets, spend some time doing outside research on state policies or additional information that might be relevant. Summarize your findings below. If you bring in any outside tables or charts, make sure you are explicit about having borrowed them. If you quote any text, make sure that it renders as being quoted. **Make sure that you cite your sources.**"
   ]
  },
  {
   "cell_type": "markdown",
   "metadata": {},
   "source": [
    "**To-Do:** *Fill out this cell with outside research or any additional background information that will support your analysis.*"
   ]
  },
  {
   "cell_type": "markdown",
   "metadata": {},
   "source": [
    "### Coding Challenges\n",
    "\n",
    "1. Manually calculate mean:\n",
    "\n",
    "    Write a function that takes in values and returns the mean of the values. Create a list of numbers that you test on your function to check to make sure your function works!\n",
    "    \n",
    "    *Note*: Do not use any mean methods built-in to any Python libraries to do this! This should be done without importing any additional libraries."
   ]
  },
  {
   "cell_type": "code",
   "execution_count": 1,
   "metadata": {
    "ExecuteTime": {
     "end_time": "2021-01-03T04:41:07.704730Z",
     "start_time": "2021-01-03T04:41:07.702421Z"
    }
   },
   "outputs": [],
   "source": [
    "def mean (n):\n",
    "    return (sum(n)/len(n))"
   ]
  },
  {
   "cell_type": "code",
   "execution_count": 2,
   "metadata": {
    "ExecuteTime": {
     "end_time": "2021-01-03T04:41:07.714103Z",
     "start_time": "2021-01-03T04:41:07.706922Z"
    }
   },
   "outputs": [
    {
     "data": {
      "text/plain": [
       "6.0"
      ]
     },
     "execution_count": 2,
     "metadata": {},
     "output_type": "execute_result"
    }
   ],
   "source": [
    "mean ([1,5,8,10])"
   ]
  },
  {
   "cell_type": "markdown",
   "metadata": {},
   "source": [
    "2. Manually calculate standard deviation:\n",
    "\n",
    "    The formula for standard deviation is below:\n",
    "\n",
    "    $$\\sigma = \\sqrt{\\frac{1}{n}\\sum_{i=1}^n(x_i - \\mu)^2}$$\n",
    "\n",
    "    Where $x_i$ represents each value in the dataset, $\\mu$ represents the mean of all values in the dataset and $n$ represents the number of values in the dataset.\n",
    "\n",
    "    Write a function that takes in values and returns the standard deviation of the values using the formula above. Hint: use the function you wrote above to calculate the mean! Use the list of numbers you created above to test on your function.\n",
    "    \n",
    "    *Note*: Do not use any standard deviation methods built-in to any Python libraries to do this! This should be done without importing any additional libraries."
   ]
  },
  {
   "cell_type": "code",
   "execution_count": 3,
   "metadata": {
    "ExecuteTime": {
     "end_time": "2021-01-03T04:41:07.718627Z",
     "start_time": "2021-01-03T04:41:07.716129Z"
    }
   },
   "outputs": [],
   "source": [
    "def stdev (n):\n",
    "    for i in n:\n",
    "        if i != 'NaN':\n",
    "            return (mean([(i - mean(n)) ** 2 for i in n])**0.5)"
   ]
  },
  {
   "cell_type": "code",
   "execution_count": 4,
   "metadata": {
    "ExecuteTime": {
     "end_time": "2021-01-03T04:41:07.722910Z",
     "start_time": "2021-01-03T04:41:07.720094Z"
    }
   },
   "outputs": [
    {
     "data": {
      "text/plain": [
       "3.391164991562634"
      ]
     },
     "execution_count": 4,
     "metadata": {},
     "output_type": "execute_result"
    }
   ],
   "source": [
    "stdev ([1,5,8,10])"
   ]
  },
  {
   "cell_type": "markdown",
   "metadata": {},
   "source": [
    "3. Data cleaning function:\n",
    "    \n",
    "    Write a function that takes in a string that is a number and a percent symbol (ex. '50%', '30.5%', etc.) and converts this to a float that is the decimal approximation of the percent. For example, inputting '50%' in your function should return 0.5, '30.5%' should return 0.305, etc. Make sure to test your function to make sure it works!\n",
    "\n",
    "You will use these functions later on in the project!"
   ]
  },
  {
   "cell_type": "code",
   "execution_count": 5,
   "metadata": {
    "ExecuteTime": {
     "end_time": "2021-01-03T04:41:07.726939Z",
     "start_time": "2021-01-03T04:41:07.724214Z"
    }
   },
   "outputs": [],
   "source": [
    "def perc_to_float (n):\n",
    "    if n != 'NaN':\n",
    "        return (float(n.rstrip(\"%\")))/100"
   ]
  },
  {
   "cell_type": "code",
   "execution_count": 6,
   "metadata": {
    "ExecuteTime": {
     "end_time": "2021-01-03T04:41:07.730778Z",
     "start_time": "2021-01-03T04:41:07.728267Z"
    }
   },
   "outputs": [
    {
     "data": {
      "text/plain": [
       "0.501"
      ]
     },
     "execution_count": 6,
     "metadata": {},
     "output_type": "execute_result"
    }
   ],
   "source": [
    "perc_to_float('50.1%')"
   ]
  },
  {
   "cell_type": "markdown",
   "metadata": {},
   "source": [
    "--- \n",
    "# Part 2\n",
    "\n",
    "Part 2 requires knowledge of Pandas, EDA, data cleaning, and data visualization.\n",
    "\n",
    "---"
   ]
  },
  {
   "cell_type": "markdown",
   "metadata": {},
   "source": [
    "*All libraries used should be added here*"
   ]
  },
  {
   "cell_type": "code",
   "execution_count": 7,
   "metadata": {
    "ExecuteTime": {
     "end_time": "2021-01-03T04:41:08.567829Z",
     "start_time": "2021-01-03T04:41:07.733878Z"
    }
   },
   "outputs": [],
   "source": [
    "import pandas as pd\n",
    "import numpy as np\n",
    "import matplotlib.pyplot as plt\n",
    "import seaborn as sns\n",
    "import missingno as msno\n",
    "import re"
   ]
  },
  {
   "cell_type": "markdown",
   "metadata": {},
   "source": [
    "## Data Import and Cleaning"
   ]
  },
  {
   "cell_type": "markdown",
   "metadata": {},
   "source": [
    "### Data Import & Cleaning\n",
    "\n",
    "Import the datasets that you selected for this project and go through the following steps at a minimum. You are welcome to do further cleaning as you feel necessary:\n",
    "1. Display the data: print the first 5 rows of each dataframe to your Jupyter notebook.\n",
    "2. Check for missing values.\n",
    "3. Check for any obvious issues with the observations (keep in mind the minimum & maximum possible values for each test/subtest).\n",
    "4. Fix any errors you identified in steps 2-3.\n",
    "5. Display the data types of each feature.\n",
    "6. Fix any incorrect data types found in step 5.\n",
    "    - Fix any individual values preventing other columns from being the appropriate type.\n",
    "    - If your dataset has a column of percents (ex. '50%', '30.5%', etc.), use the function you wrote in Part 1 (coding challenges, number 3) to convert this to floats! *Hint*: use `.map()` or `.apply()`.\n",
    "7. Rename Columns.\n",
    "    - Column names should be all lowercase.\n",
    "    - Column names should not contain spaces (underscores will suffice--this allows for using the `df.column_name` method to access columns in addition to `df['column_name']`).\n",
    "    - Column names should be unique and informative.\n",
    "8. Drop unnecessary rows (if needed).\n",
    "9. Merge dataframes that can be merged.\n",
    "10. Perform any additional cleaning that you feel is necessary.\n",
    "11. Save your cleaned and merged dataframes as csv files."
   ]
  },
  {
   "cell_type": "code",
   "execution_count": 8,
   "metadata": {
    "ExecuteTime": {
     "end_time": "2021-01-03T04:41:08.629426Z",
     "start_time": "2021-01-03T04:41:08.570389Z"
    }
   },
   "outputs": [],
   "source": [
    "sat17 = pd.read_csv ('./data/sat_2017_ca.csv')\n",
    "sat18 = pd.read_csv ('./data/sat_2018_ca.csv')\n",
    "sat19 = pd.read_csv ('./data/sat_2019_ca.csv')\n",
    "act17 = pd.read_csv ('./data/act_2017_ca.csv')\n",
    "act18 = pd.read_csv ('./data/act_2018_ca.csv')\n",
    "act19 = pd.read_csv ('./data/act_2019_ca.csv')\n",
    "income = pd.read_csv ('./data/income_ca.csv')"
   ]
  },
  {
   "cell_type": "code",
   "execution_count": 9,
   "metadata": {
    "ExecuteTime": {
     "end_time": "2021-01-03T04:41:08.645888Z",
     "start_time": "2021-01-03T04:41:08.630860Z"
    }
   },
   "outputs": [
    {
     "data": {
      "text/html": [
       "<div>\n",
       "<style scoped>\n",
       "    .dataframe tbody tr th:only-of-type {\n",
       "        vertical-align: middle;\n",
       "    }\n",
       "\n",
       "    .dataframe tbody tr th {\n",
       "        vertical-align: top;\n",
       "    }\n",
       "\n",
       "    .dataframe thead th {\n",
       "        text-align: right;\n",
       "    }\n",
       "</style>\n",
       "<table border=\"1\" class=\"dataframe\">\n",
       "  <thead>\n",
       "    <tr style=\"text-align: right;\">\n",
       "      <th></th>\n",
       "      <th>cds</th>\n",
       "      <th>Ccode</th>\n",
       "      <th>CDcode</th>\n",
       "      <th>Scode</th>\n",
       "      <th>rtype</th>\n",
       "      <th>sname</th>\n",
       "      <th>dname</th>\n",
       "      <th>cname</th>\n",
       "      <th>enroll12</th>\n",
       "      <th>NumTstTakr</th>\n",
       "      <th>NumCurrElaBenchmark</th>\n",
       "      <th>NumPreElaBenchmark</th>\n",
       "      <th>TotNumElaBenchmark</th>\n",
       "      <th>PctElaBenchmark</th>\n",
       "      <th>NumCurrMathBenchmark</th>\n",
       "      <th>NumPreMathBenchmark</th>\n",
       "      <th>TotNumMathBenchmark</th>\n",
       "      <th>PctMathBenchmark</th>\n",
       "      <th>TotNumBothBenchmark</th>\n",
       "      <th>PctBothBenchmark</th>\n",
       "    </tr>\n",
       "  </thead>\n",
       "  <tbody>\n",
       "    <tr>\n",
       "      <th>0</th>\n",
       "      <td>0.000000e+00</td>\n",
       "      <td>0</td>\n",
       "      <td>0</td>\n",
       "      <td>0</td>\n",
       "      <td>X</td>\n",
       "      <td>NaN</td>\n",
       "      <td>NaN</td>\n",
       "      <td>NaN</td>\n",
       "      <td>484169</td>\n",
       "      <td>221433</td>\n",
       "      <td>144893</td>\n",
       "      <td>15103</td>\n",
       "      <td>159996</td>\n",
       "      <td>72.25</td>\n",
       "      <td>98504</td>\n",
       "      <td>13887</td>\n",
       "      <td>112391</td>\n",
       "      <td>50.76</td>\n",
       "      <td>107173</td>\n",
       "      <td>48.4</td>\n",
       "    </tr>\n",
       "    <tr>\n",
       "      <th>1</th>\n",
       "      <td>1.000000e+12</td>\n",
       "      <td>1</td>\n",
       "      <td>100000</td>\n",
       "      <td>0</td>\n",
       "      <td>C</td>\n",
       "      <td>NaN</td>\n",
       "      <td>NaN</td>\n",
       "      <td>Alameda</td>\n",
       "      <td>16638</td>\n",
       "      <td>9029</td>\n",
       "      <td>5407</td>\n",
       "      <td>1376</td>\n",
       "      <td>6783</td>\n",
       "      <td>75.12</td>\n",
       "      <td>4033</td>\n",
       "      <td>1337</td>\n",
       "      <td>5370</td>\n",
       "      <td>59.48</td>\n",
       "      <td>5147</td>\n",
       "      <td>57.01</td>\n",
       "    </tr>\n",
       "    <tr>\n",
       "      <th>2</th>\n",
       "      <td>1.100170e+12</td>\n",
       "      <td>1</td>\n",
       "      <td>110017</td>\n",
       "      <td>0</td>\n",
       "      <td>D</td>\n",
       "      <td>NaN</td>\n",
       "      <td>Alameda County Office of Education</td>\n",
       "      <td>Alameda</td>\n",
       "      <td>253</td>\n",
       "      <td>83</td>\n",
       "      <td>28</td>\n",
       "      <td>0</td>\n",
       "      <td>28</td>\n",
       "      <td>33.73</td>\n",
       "      <td>9</td>\n",
       "      <td>0</td>\n",
       "      <td>9</td>\n",
       "      <td>10.84</td>\n",
       "      <td>9</td>\n",
       "      <td>10.84</td>\n",
       "    </tr>\n",
       "    <tr>\n",
       "      <th>3</th>\n",
       "      <td>1.100170e+12</td>\n",
       "      <td>1</td>\n",
       "      <td>110017</td>\n",
       "      <td>112607</td>\n",
       "      <td>S</td>\n",
       "      <td>Envision Academy for Arts &amp; Technology</td>\n",
       "      <td>Alameda County Office of Education</td>\n",
       "      <td>Alameda</td>\n",
       "      <td>81</td>\n",
       "      <td>83</td>\n",
       "      <td>28</td>\n",
       "      <td>0</td>\n",
       "      <td>28</td>\n",
       "      <td>33.73</td>\n",
       "      <td>9</td>\n",
       "      <td>0</td>\n",
       "      <td>9</td>\n",
       "      <td>10.84</td>\n",
       "      <td>9</td>\n",
       "      <td>10.84</td>\n",
       "    </tr>\n",
       "    <tr>\n",
       "      <th>4</th>\n",
       "      <td>1.611190e+12</td>\n",
       "      <td>1</td>\n",
       "      <td>161119</td>\n",
       "      <td>0</td>\n",
       "      <td>D</td>\n",
       "      <td>NaN</td>\n",
       "      <td>Alameda Unified</td>\n",
       "      <td>Alameda</td>\n",
       "      <td>910</td>\n",
       "      <td>495</td>\n",
       "      <td>373</td>\n",
       "      <td>51</td>\n",
       "      <td>424</td>\n",
       "      <td>85.66</td>\n",
       "      <td>298</td>\n",
       "      <td>47</td>\n",
       "      <td>345</td>\n",
       "      <td>69.7</td>\n",
       "      <td>330</td>\n",
       "      <td>66.67</td>\n",
       "    </tr>\n",
       "  </tbody>\n",
       "</table>\n",
       "</div>"
      ],
      "text/plain": [
       "            cds  Ccode  CDcode   Scode rtype  \\\n",
       "0  0.000000e+00      0       0       0     X   \n",
       "1  1.000000e+12      1  100000       0     C   \n",
       "2  1.100170e+12      1  110017       0     D   \n",
       "3  1.100170e+12      1  110017  112607     S   \n",
       "4  1.611190e+12      1  161119       0     D   \n",
       "\n",
       "                                    sname                               dname  \\\n",
       "0                                     NaN                                 NaN   \n",
       "1                                     NaN                                 NaN   \n",
       "2                                     NaN  Alameda County Office of Education   \n",
       "3  Envision Academy for Arts & Technology  Alameda County Office of Education   \n",
       "4                                     NaN                     Alameda Unified   \n",
       "\n",
       "     cname  enroll12  NumTstTakr NumCurrElaBenchmark NumPreElaBenchmark  \\\n",
       "0      NaN    484169      221433              144893              15103   \n",
       "1  Alameda     16638        9029                5407               1376   \n",
       "2  Alameda       253          83                  28                  0   \n",
       "3  Alameda        81          83                  28                  0   \n",
       "4  Alameda       910         495                 373                 51   \n",
       "\n",
       "  TotNumElaBenchmark PctElaBenchmark NumCurrMathBenchmark NumPreMathBenchmark  \\\n",
       "0             159996           72.25                98504               13887   \n",
       "1               6783           75.12                 4033                1337   \n",
       "2                 28           33.73                    9                   0   \n",
       "3                 28           33.73                    9                   0   \n",
       "4                424           85.66                  298                  47   \n",
       "\n",
       "  TotNumMathBenchmark PctMathBenchmark TotNumBothBenchmark PctBothBenchmark  \n",
       "0              112391            50.76              107173             48.4  \n",
       "1                5370            59.48                5147            57.01  \n",
       "2                   9            10.84                   9            10.84  \n",
       "3                   9            10.84                   9            10.84  \n",
       "4                 345             69.7                 330            66.67  "
      ]
     },
     "execution_count": 9,
     "metadata": {},
     "output_type": "execute_result"
    }
   ],
   "source": [
    "sat17.head(5)"
   ]
  },
  {
   "cell_type": "code",
   "execution_count": 10,
   "metadata": {
    "ExecuteTime": {
     "end_time": "2021-01-03T04:41:08.663498Z",
     "start_time": "2021-01-03T04:41:08.647187Z"
    }
   },
   "outputs": [
    {
     "data": {
      "text/html": [
       "<div>\n",
       "<style scoped>\n",
       "    .dataframe tbody tr th:only-of-type {\n",
       "        vertical-align: middle;\n",
       "    }\n",
       "\n",
       "    .dataframe tbody tr th {\n",
       "        vertical-align: top;\n",
       "    }\n",
       "\n",
       "    .dataframe thead th {\n",
       "        text-align: right;\n",
       "    }\n",
       "</style>\n",
       "<table border=\"1\" class=\"dataframe\">\n",
       "  <thead>\n",
       "    <tr style=\"text-align: right;\">\n",
       "      <th></th>\n",
       "      <th>cds</th>\n",
       "      <th>Ccode</th>\n",
       "      <th>CDcode</th>\n",
       "      <th>Scode</th>\n",
       "      <th>rtype</th>\n",
       "      <th>sname</th>\n",
       "      <th>dname</th>\n",
       "      <th>cname</th>\n",
       "      <th>enroll12</th>\n",
       "      <th>NumTstTakr</th>\n",
       "      <th>...</th>\n",
       "      <th>NumPreElaBenchmark</th>\n",
       "      <th>TotNumElaBenchmark</th>\n",
       "      <th>PctElaBenchmark</th>\n",
       "      <th>NumCurrMathBenchmark</th>\n",
       "      <th>NumPreMathBenchmark</th>\n",
       "      <th>TotNumMathBenchmark</th>\n",
       "      <th>PctMathBenchmark</th>\n",
       "      <th>TotNumBothBenchmark</th>\n",
       "      <th>PctBothBenchmark</th>\n",
       "      <th>year</th>\n",
       "    </tr>\n",
       "  </thead>\n",
       "  <tbody>\n",
       "    <tr>\n",
       "      <th>0</th>\n",
       "      <td>0.000000e+00</td>\n",
       "      <td>0</td>\n",
       "      <td>0</td>\n",
       "      <td>0</td>\n",
       "      <td>X</td>\n",
       "      <td>NaN</td>\n",
       "      <td>NaN</td>\n",
       "      <td>NaN</td>\n",
       "      <td>489221</td>\n",
       "      <td>236492</td>\n",
       "      <td>...</td>\n",
       "      <td>442</td>\n",
       "      <td>167998</td>\n",
       "      <td>71.04</td>\n",
       "      <td>119412</td>\n",
       "      <td>423</td>\n",
       "      <td>119835</td>\n",
       "      <td>50.67</td>\n",
       "      <td>114161</td>\n",
       "      <td>48.27</td>\n",
       "      <td>2017-18</td>\n",
       "    </tr>\n",
       "    <tr>\n",
       "      <th>1</th>\n",
       "      <td>1.000000e+12</td>\n",
       "      <td>1</td>\n",
       "      <td>100000</td>\n",
       "      <td>0</td>\n",
       "      <td>C</td>\n",
       "      <td>NaN</td>\n",
       "      <td>NaN</td>\n",
       "      <td>Alameda</td>\n",
       "      <td>17476</td>\n",
       "      <td>10058</td>\n",
       "      <td>...</td>\n",
       "      <td>44</td>\n",
       "      <td>7738</td>\n",
       "      <td>76.93</td>\n",
       "      <td>6160</td>\n",
       "      <td>44</td>\n",
       "      <td>6204</td>\n",
       "      <td>61.68</td>\n",
       "      <td>5981</td>\n",
       "      <td>59.47</td>\n",
       "      <td>2017-18</td>\n",
       "    </tr>\n",
       "    <tr>\n",
       "      <th>2</th>\n",
       "      <td>1.100170e+12</td>\n",
       "      <td>1</td>\n",
       "      <td>110017</td>\n",
       "      <td>0</td>\n",
       "      <td>D</td>\n",
       "      <td>NaN</td>\n",
       "      <td>Alameda County Office of Education</td>\n",
       "      <td>Alameda</td>\n",
       "      <td>249</td>\n",
       "      <td>90</td>\n",
       "      <td>...</td>\n",
       "      <td>0</td>\n",
       "      <td>46</td>\n",
       "      <td>51.11</td>\n",
       "      <td>20</td>\n",
       "      <td>0</td>\n",
       "      <td>20</td>\n",
       "      <td>22.22</td>\n",
       "      <td>17</td>\n",
       "      <td>18.89</td>\n",
       "      <td>2017-18</td>\n",
       "    </tr>\n",
       "    <tr>\n",
       "      <th>3</th>\n",
       "      <td>1.100170e+12</td>\n",
       "      <td>1</td>\n",
       "      <td>110017</td>\n",
       "      <td>112607</td>\n",
       "      <td>S</td>\n",
       "      <td>Envision Academy for Arts &amp; Technology</td>\n",
       "      <td>Alameda County Office of Education</td>\n",
       "      <td>Alameda</td>\n",
       "      <td>93</td>\n",
       "      <td>88</td>\n",
       "      <td>...</td>\n",
       "      <td>0</td>\n",
       "      <td>44</td>\n",
       "      <td>50</td>\n",
       "      <td>19</td>\n",
       "      <td>0</td>\n",
       "      <td>19</td>\n",
       "      <td>21.59</td>\n",
       "      <td>16</td>\n",
       "      <td>18.18</td>\n",
       "      <td>2017-18</td>\n",
       "    </tr>\n",
       "    <tr>\n",
       "      <th>4</th>\n",
       "      <td>1.100170e+12</td>\n",
       "      <td>1</td>\n",
       "      <td>110017</td>\n",
       "      <td>136101</td>\n",
       "      <td>S</td>\n",
       "      <td>Connecting Waters Charter - East Bay</td>\n",
       "      <td>Alameda County Office of Education</td>\n",
       "      <td>Alameda</td>\n",
       "      <td>0</td>\n",
       "      <td>2</td>\n",
       "      <td>...</td>\n",
       "      <td>*</td>\n",
       "      <td>*</td>\n",
       "      <td>*</td>\n",
       "      <td>*</td>\n",
       "      <td>*</td>\n",
       "      <td>*</td>\n",
       "      <td>*</td>\n",
       "      <td>*</td>\n",
       "      <td>*</td>\n",
       "      <td>2017-18</td>\n",
       "    </tr>\n",
       "  </tbody>\n",
       "</table>\n",
       "<p>5 rows × 21 columns</p>\n",
       "</div>"
      ],
      "text/plain": [
       "            cds  Ccode  CDcode   Scode rtype  \\\n",
       "0  0.000000e+00      0       0       0     X   \n",
       "1  1.000000e+12      1  100000       0     C   \n",
       "2  1.100170e+12      1  110017       0     D   \n",
       "3  1.100170e+12      1  110017  112607     S   \n",
       "4  1.100170e+12      1  110017  136101     S   \n",
       "\n",
       "                                    sname                               dname  \\\n",
       "0                                     NaN                                 NaN   \n",
       "1                                     NaN                                 NaN   \n",
       "2                                     NaN  Alameda County Office of Education   \n",
       "3  Envision Academy for Arts & Technology  Alameda County Office of Education   \n",
       "4    Connecting Waters Charter - East Bay  Alameda County Office of Education   \n",
       "\n",
       "     cname  enroll12  NumTstTakr  ... NumPreElaBenchmark TotNumElaBenchmark  \\\n",
       "0      NaN    489221      236492  ...                442             167998   \n",
       "1  Alameda     17476       10058  ...                 44               7738   \n",
       "2  Alameda       249          90  ...                  0                 46   \n",
       "3  Alameda        93          88  ...                  0                 44   \n",
       "4  Alameda         0           2  ...                  *                  *   \n",
       "\n",
       "  PctElaBenchmark NumCurrMathBenchmark NumPreMathBenchmark  \\\n",
       "0           71.04               119412                 423   \n",
       "1           76.93                 6160                  44   \n",
       "2           51.11                   20                   0   \n",
       "3              50                   19                   0   \n",
       "4               *                    *                   *   \n",
       "\n",
       "  TotNumMathBenchmark PctMathBenchmark TotNumBothBenchmark PctBothBenchmark  \\\n",
       "0              119835            50.67              114161            48.27   \n",
       "1                6204            61.68                5981            59.47   \n",
       "2                  20            22.22                  17            18.89   \n",
       "3                  19            21.59                  16            18.18   \n",
       "4                   *                *                   *                *   \n",
       "\n",
       "      year  \n",
       "0  2017-18  \n",
       "1  2017-18  \n",
       "2  2017-18  \n",
       "3  2017-18  \n",
       "4  2017-18  \n",
       "\n",
       "[5 rows x 21 columns]"
      ]
     },
     "execution_count": 10,
     "metadata": {},
     "output_type": "execute_result"
    }
   ],
   "source": [
    "sat18.head(5)"
   ]
  },
  {
   "cell_type": "code",
   "execution_count": 11,
   "metadata": {
    "ExecuteTime": {
     "end_time": "2021-01-03T04:41:08.682628Z",
     "start_time": "2021-01-03T04:41:08.664832Z"
    }
   },
   "outputs": [
    {
     "data": {
      "text/html": [
       "<div>\n",
       "<style scoped>\n",
       "    .dataframe tbody tr th:only-of-type {\n",
       "        vertical-align: middle;\n",
       "    }\n",
       "\n",
       "    .dataframe tbody tr th {\n",
       "        vertical-align: top;\n",
       "    }\n",
       "\n",
       "    .dataframe thead th {\n",
       "        text-align: right;\n",
       "    }\n",
       "</style>\n",
       "<table border=\"1\" class=\"dataframe\">\n",
       "  <thead>\n",
       "    <tr style=\"text-align: right;\">\n",
       "      <th></th>\n",
       "      <th>CDS</th>\n",
       "      <th>CCode</th>\n",
       "      <th>CDCode</th>\n",
       "      <th>SCode</th>\n",
       "      <th>RType</th>\n",
       "      <th>SName</th>\n",
       "      <th>DName</th>\n",
       "      <th>CName</th>\n",
       "      <th>Enroll12</th>\n",
       "      <th>NumTSTTakr12</th>\n",
       "      <th>...</th>\n",
       "      <th>NumERWBenchmark11</th>\n",
       "      <th>PctERWBenchmark11</th>\n",
       "      <th>NumMathBenchmark11</th>\n",
       "      <th>PctMathBenchmark11</th>\n",
       "      <th>TotNumBothBenchmark12</th>\n",
       "      <th>PctBothBenchmark12</th>\n",
       "      <th>TotNumBothBenchmark11</th>\n",
       "      <th>PctBothBenchmark11</th>\n",
       "      <th>Year</th>\n",
       "      <th>Unnamed: 25</th>\n",
       "    </tr>\n",
       "  </thead>\n",
       "  <tbody>\n",
       "    <tr>\n",
       "      <th>0</th>\n",
       "      <td>6.615981e+12</td>\n",
       "      <td>6.0</td>\n",
       "      <td>661598.0</td>\n",
       "      <td>630046.0</td>\n",
       "      <td>S</td>\n",
       "      <td>Colusa Alternative Home</td>\n",
       "      <td>Colusa Unified</td>\n",
       "      <td>Colusa</td>\n",
       "      <td>18.0</td>\n",
       "      <td>0.0</td>\n",
       "      <td>...</td>\n",
       "      <td>NaN</td>\n",
       "      <td>NaN</td>\n",
       "      <td>NaN</td>\n",
       "      <td>NaN</td>\n",
       "      <td>NaN</td>\n",
       "      <td>NaN</td>\n",
       "      <td>NaN</td>\n",
       "      <td>NaN</td>\n",
       "      <td>2018-19</td>\n",
       "      <td>NaN</td>\n",
       "    </tr>\n",
       "    <tr>\n",
       "      <th>1</th>\n",
       "      <td>6.616061e+12</td>\n",
       "      <td>6.0</td>\n",
       "      <td>661606.0</td>\n",
       "      <td>634758.0</td>\n",
       "      <td>S</td>\n",
       "      <td>Maxwell Sr High</td>\n",
       "      <td>Maxwell Unified</td>\n",
       "      <td>Colusa</td>\n",
       "      <td>29.0</td>\n",
       "      <td>10.0</td>\n",
       "      <td>...</td>\n",
       "      <td>*</td>\n",
       "      <td>*</td>\n",
       "      <td>*</td>\n",
       "      <td>*</td>\n",
       "      <td>*</td>\n",
       "      <td>*</td>\n",
       "      <td>*</td>\n",
       "      <td>*</td>\n",
       "      <td>2018-19</td>\n",
       "      <td>NaN</td>\n",
       "    </tr>\n",
       "    <tr>\n",
       "      <th>2</th>\n",
       "      <td>1.964733e+13</td>\n",
       "      <td>19.0</td>\n",
       "      <td>1964733.0</td>\n",
       "      <td>1930924.0</td>\n",
       "      <td>S</td>\n",
       "      <td>Belmont Senior High</td>\n",
       "      <td>Los Angeles Unified</td>\n",
       "      <td>Los Angeles</td>\n",
       "      <td>206.0</td>\n",
       "      <td>102.0</td>\n",
       "      <td>...</td>\n",
       "      <td>42</td>\n",
       "      <td>24.14</td>\n",
       "      <td>12</td>\n",
       "      <td>6.90</td>\n",
       "      <td>14</td>\n",
       "      <td>13.73</td>\n",
       "      <td>11</td>\n",
       "      <td>6.32</td>\n",
       "      <td>2018-19</td>\n",
       "      <td>NaN</td>\n",
       "    </tr>\n",
       "    <tr>\n",
       "      <th>3</th>\n",
       "      <td>1.964733e+13</td>\n",
       "      <td>19.0</td>\n",
       "      <td>1964733.0</td>\n",
       "      <td>1931476.0</td>\n",
       "      <td>S</td>\n",
       "      <td>Canoga Park Senior High</td>\n",
       "      <td>Los Angeles Unified</td>\n",
       "      <td>Los Angeles</td>\n",
       "      <td>227.0</td>\n",
       "      <td>113.0</td>\n",
       "      <td>...</td>\n",
       "      <td>97</td>\n",
       "      <td>35.27</td>\n",
       "      <td>37</td>\n",
       "      <td>13.45</td>\n",
       "      <td>18</td>\n",
       "      <td>15.93</td>\n",
       "      <td>35</td>\n",
       "      <td>12.73</td>\n",
       "      <td>2018-19</td>\n",
       "      <td>NaN</td>\n",
       "    </tr>\n",
       "    <tr>\n",
       "      <th>4</th>\n",
       "      <td>1.964733e+13</td>\n",
       "      <td>19.0</td>\n",
       "      <td>1964733.0</td>\n",
       "      <td>1931856.0</td>\n",
       "      <td>S</td>\n",
       "      <td>Whitman Continuation</td>\n",
       "      <td>Los Angeles Unified</td>\n",
       "      <td>Los Angeles</td>\n",
       "      <td>18.0</td>\n",
       "      <td>14.0</td>\n",
       "      <td>...</td>\n",
       "      <td>*</td>\n",
       "      <td>*</td>\n",
       "      <td>*</td>\n",
       "      <td>*</td>\n",
       "      <td>*</td>\n",
       "      <td>*</td>\n",
       "      <td>*</td>\n",
       "      <td>*</td>\n",
       "      <td>2018-19</td>\n",
       "      <td>NaN</td>\n",
       "    </tr>\n",
       "  </tbody>\n",
       "</table>\n",
       "<p>5 rows × 26 columns</p>\n",
       "</div>"
      ],
      "text/plain": [
       "            CDS  CCode     CDCode      SCode RType                    SName  \\\n",
       "0  6.615981e+12    6.0   661598.0   630046.0     S  Colusa Alternative Home   \n",
       "1  6.616061e+12    6.0   661606.0   634758.0     S          Maxwell Sr High   \n",
       "2  1.964733e+13   19.0  1964733.0  1930924.0     S      Belmont Senior High   \n",
       "3  1.964733e+13   19.0  1964733.0  1931476.0     S  Canoga Park Senior High   \n",
       "4  1.964733e+13   19.0  1964733.0  1931856.0     S     Whitman Continuation   \n",
       "\n",
       "                 DName        CName  Enroll12  NumTSTTakr12  ...  \\\n",
       "0       Colusa Unified       Colusa      18.0           0.0  ...   \n",
       "1      Maxwell Unified       Colusa      29.0          10.0  ...   \n",
       "2  Los Angeles Unified  Los Angeles     206.0         102.0  ...   \n",
       "3  Los Angeles Unified  Los Angeles     227.0         113.0  ...   \n",
       "4  Los Angeles Unified  Los Angeles      18.0          14.0  ...   \n",
       "\n",
       "  NumERWBenchmark11 PctERWBenchmark11 NumMathBenchmark11 PctMathBenchmark11  \\\n",
       "0               NaN               NaN                NaN                NaN   \n",
       "1                 *                 *                  *                  *   \n",
       "2                42             24.14                 12               6.90   \n",
       "3                97             35.27                 37              13.45   \n",
       "4                 *                 *                  *                  *   \n",
       "\n",
       "   TotNumBothBenchmark12  PctBothBenchmark12 TotNumBothBenchmark11  \\\n",
       "0                    NaN                 NaN                   NaN   \n",
       "1                      *                   *                     *   \n",
       "2                     14               13.73                    11   \n",
       "3                     18               15.93                    35   \n",
       "4                      *                   *                     *   \n",
       "\n",
       "  PctBothBenchmark11     Year Unnamed: 25  \n",
       "0                NaN  2018-19         NaN  \n",
       "1                  *  2018-19         NaN  \n",
       "2               6.32  2018-19         NaN  \n",
       "3              12.73  2018-19         NaN  \n",
       "4                  *  2018-19         NaN  \n",
       "\n",
       "[5 rows x 26 columns]"
      ]
     },
     "execution_count": 11,
     "metadata": {},
     "output_type": "execute_result"
    }
   ],
   "source": [
    "sat19.head(5)"
   ]
  },
  {
   "cell_type": "code",
   "execution_count": 12,
   "metadata": {
    "ExecuteTime": {
     "end_time": "2021-01-03T04:41:08.696894Z",
     "start_time": "2021-01-03T04:41:08.684097Z"
    }
   },
   "outputs": [
    {
     "data": {
      "text/html": [
       "<div>\n",
       "<style scoped>\n",
       "    .dataframe tbody tr th:only-of-type {\n",
       "        vertical-align: middle;\n",
       "    }\n",
       "\n",
       "    .dataframe tbody tr th {\n",
       "        vertical-align: top;\n",
       "    }\n",
       "\n",
       "    .dataframe thead th {\n",
       "        text-align: right;\n",
       "    }\n",
       "</style>\n",
       "<table border=\"1\" class=\"dataframe\">\n",
       "  <thead>\n",
       "    <tr style=\"text-align: right;\">\n",
       "      <th></th>\n",
       "      <th>cds</th>\n",
       "      <th>ccode</th>\n",
       "      <th>cdcode</th>\n",
       "      <th>scode</th>\n",
       "      <th>rtype</th>\n",
       "      <th>sname</th>\n",
       "      <th>dname</th>\n",
       "      <th>cname</th>\n",
       "      <th>Enroll12</th>\n",
       "      <th>NumTstTakr</th>\n",
       "      <th>AvgScrEng</th>\n",
       "      <th>AvgScrRead</th>\n",
       "      <th>AvgScrMath</th>\n",
       "      <th>AvgScrSci</th>\n",
       "      <th>NumGE21</th>\n",
       "      <th>PctGE21</th>\n",
       "    </tr>\n",
       "  </thead>\n",
       "  <tbody>\n",
       "    <tr>\n",
       "      <th>0</th>\n",
       "      <td>0.000000e+00</td>\n",
       "      <td>0</td>\n",
       "      <td>0</td>\n",
       "      <td>0</td>\n",
       "      <td>X</td>\n",
       "      <td>NaN</td>\n",
       "      <td>NaN</td>\n",
       "      <td>NaN</td>\n",
       "      <td>484169.0</td>\n",
       "      <td>109506.0</td>\n",
       "      <td>22</td>\n",
       "      <td>23</td>\n",
       "      <td>22</td>\n",
       "      <td>22</td>\n",
       "      <td>63629</td>\n",
       "      <td>58.11</td>\n",
       "    </tr>\n",
       "    <tr>\n",
       "      <th>1</th>\n",
       "      <td>1.000000e+12</td>\n",
       "      <td>1</td>\n",
       "      <td>100000</td>\n",
       "      <td>0</td>\n",
       "      <td>C</td>\n",
       "      <td>NaN</td>\n",
       "      <td>NaN</td>\n",
       "      <td>Alameda</td>\n",
       "      <td>16638.0</td>\n",
       "      <td>4587.0</td>\n",
       "      <td>24</td>\n",
       "      <td>25</td>\n",
       "      <td>25</td>\n",
       "      <td>24</td>\n",
       "      <td>3193</td>\n",
       "      <td>69.61</td>\n",
       "    </tr>\n",
       "    <tr>\n",
       "      <th>2</th>\n",
       "      <td>1.100170e+12</td>\n",
       "      <td>1</td>\n",
       "      <td>110017</td>\n",
       "      <td>0</td>\n",
       "      <td>D</td>\n",
       "      <td>NaN</td>\n",
       "      <td>Alameda County Office of Education</td>\n",
       "      <td>Alameda</td>\n",
       "      <td>253.0</td>\n",
       "      <td>9.0</td>\n",
       "      <td>*</td>\n",
       "      <td>*</td>\n",
       "      <td>*</td>\n",
       "      <td>*</td>\n",
       "      <td>*</td>\n",
       "      <td>*</td>\n",
       "    </tr>\n",
       "    <tr>\n",
       "      <th>3</th>\n",
       "      <td>1.100170e+12</td>\n",
       "      <td>1</td>\n",
       "      <td>110017</td>\n",
       "      <td>112607</td>\n",
       "      <td>S</td>\n",
       "      <td>Envision Academy for Arts &amp; Technology</td>\n",
       "      <td>Alameda County Office of Education</td>\n",
       "      <td>Alameda</td>\n",
       "      <td>81.0</td>\n",
       "      <td>9.0</td>\n",
       "      <td>*</td>\n",
       "      <td>*</td>\n",
       "      <td>*</td>\n",
       "      <td>*</td>\n",
       "      <td>*</td>\n",
       "      <td>*</td>\n",
       "    </tr>\n",
       "    <tr>\n",
       "      <th>4</th>\n",
       "      <td>1.316170e+12</td>\n",
       "      <td>1</td>\n",
       "      <td>131617</td>\n",
       "      <td>131763</td>\n",
       "      <td>S</td>\n",
       "      <td>California School for the Deaf-Fremont</td>\n",
       "      <td>California School for the Deaf-Fremont (State ...</td>\n",
       "      <td>Alameda</td>\n",
       "      <td>86.0</td>\n",
       "      <td>26.0</td>\n",
       "      <td>12</td>\n",
       "      <td>16</td>\n",
       "      <td>16</td>\n",
       "      <td>16</td>\n",
       "      <td>1</td>\n",
       "      <td>3.85</td>\n",
       "    </tr>\n",
       "  </tbody>\n",
       "</table>\n",
       "</div>"
      ],
      "text/plain": [
       "            cds  ccode  cdcode   scode rtype  \\\n",
       "0  0.000000e+00      0       0       0     X   \n",
       "1  1.000000e+12      1  100000       0     C   \n",
       "2  1.100170e+12      1  110017       0     D   \n",
       "3  1.100170e+12      1  110017  112607     S   \n",
       "4  1.316170e+12      1  131617  131763     S   \n",
       "\n",
       "                                    sname  \\\n",
       "0                                     NaN   \n",
       "1                                     NaN   \n",
       "2                                     NaN   \n",
       "3  Envision Academy for Arts & Technology   \n",
       "4  California School for the Deaf-Fremont   \n",
       "\n",
       "                                               dname    cname  Enroll12  \\\n",
       "0                                                NaN      NaN  484169.0   \n",
       "1                                                NaN  Alameda   16638.0   \n",
       "2                 Alameda County Office of Education  Alameda     253.0   \n",
       "3                 Alameda County Office of Education  Alameda      81.0   \n",
       "4  California School for the Deaf-Fremont (State ...  Alameda      86.0   \n",
       "\n",
       "   NumTstTakr AvgScrEng AvgScrRead AvgScrMath AvgScrSci NumGE21 PctGE21  \n",
       "0    109506.0        22         23         22        22   63629   58.11  \n",
       "1      4587.0        24         25         25        24    3193   69.61  \n",
       "2         9.0         *          *          *         *       *       *  \n",
       "3         9.0         *          *          *         *       *       *  \n",
       "4        26.0        12         16         16        16       1    3.85  "
      ]
     },
     "execution_count": 12,
     "metadata": {},
     "output_type": "execute_result"
    }
   ],
   "source": [
    "act17.head(5)"
   ]
  },
  {
   "cell_type": "code",
   "execution_count": 13,
   "metadata": {
    "ExecuteTime": {
     "end_time": "2021-01-03T04:41:08.710682Z",
     "start_time": "2021-01-03T04:41:08.698299Z"
    }
   },
   "outputs": [
    {
     "data": {
      "text/html": [
       "<div>\n",
       "<style scoped>\n",
       "    .dataframe tbody tr th:only-of-type {\n",
       "        vertical-align: middle;\n",
       "    }\n",
       "\n",
       "    .dataframe tbody tr th {\n",
       "        vertical-align: top;\n",
       "    }\n",
       "\n",
       "    .dataframe thead th {\n",
       "        text-align: right;\n",
       "    }\n",
       "</style>\n",
       "<table border=\"1\" class=\"dataframe\">\n",
       "  <thead>\n",
       "    <tr style=\"text-align: right;\">\n",
       "      <th></th>\n",
       "      <th>cds</th>\n",
       "      <th>Ccode</th>\n",
       "      <th>CDcode</th>\n",
       "      <th>Scode</th>\n",
       "      <th>rtype</th>\n",
       "      <th>sname</th>\n",
       "      <th>dname</th>\n",
       "      <th>cname</th>\n",
       "      <th>enroll12</th>\n",
       "      <th>NumTstTakr</th>\n",
       "      <th>AvgScrEng</th>\n",
       "      <th>AvgScrRead</th>\n",
       "      <th>AvgScrMath</th>\n",
       "      <th>AvgScrSci</th>\n",
       "      <th>NumGE21</th>\n",
       "      <th>PctGE21</th>\n",
       "      <th>year</th>\n",
       "    </tr>\n",
       "  </thead>\n",
       "  <tbody>\n",
       "    <tr>\n",
       "      <th>0</th>\n",
       "      <td>0.000000e+00</td>\n",
       "      <td>0</td>\n",
       "      <td>0</td>\n",
       "      <td>0</td>\n",
       "      <td>X</td>\n",
       "      <td></td>\n",
       "      <td></td>\n",
       "      <td></td>\n",
       "      <td>489221</td>\n",
       "      <td>100197</td>\n",
       "      <td>22</td>\n",
       "      <td>23</td>\n",
       "      <td>22</td>\n",
       "      <td>22</td>\n",
       "      <td>56664</td>\n",
       "      <td>56.55</td>\n",
       "      <td>2017-18</td>\n",
       "    </tr>\n",
       "    <tr>\n",
       "      <th>1</th>\n",
       "      <td>1.000000e+12</td>\n",
       "      <td>1</td>\n",
       "      <td>100000</td>\n",
       "      <td>0</td>\n",
       "      <td>C</td>\n",
       "      <td></td>\n",
       "      <td></td>\n",
       "      <td>Alameda</td>\n",
       "      <td>17476</td>\n",
       "      <td>4120</td>\n",
       "      <td>25</td>\n",
       "      <td>25</td>\n",
       "      <td>25</td>\n",
       "      <td>24</td>\n",
       "      <td>2879</td>\n",
       "      <td>69.88</td>\n",
       "      <td>2017-18</td>\n",
       "    </tr>\n",
       "    <tr>\n",
       "      <th>2</th>\n",
       "      <td>1.100170e+12</td>\n",
       "      <td>1</td>\n",
       "      <td>110017</td>\n",
       "      <td>0</td>\n",
       "      <td>D</td>\n",
       "      <td>NaN</td>\n",
       "      <td>Alameda County Office of Education</td>\n",
       "      <td>Alameda</td>\n",
       "      <td>249</td>\n",
       "      <td>16</td>\n",
       "      <td>20</td>\n",
       "      <td>19</td>\n",
       "      <td>20</td>\n",
       "      <td>20</td>\n",
       "      <td>8</td>\n",
       "      <td>50</td>\n",
       "      <td>2017-18</td>\n",
       "    </tr>\n",
       "    <tr>\n",
       "      <th>3</th>\n",
       "      <td>1.100170e+12</td>\n",
       "      <td>1</td>\n",
       "      <td>110017</td>\n",
       "      <td>112607</td>\n",
       "      <td>S</td>\n",
       "      <td>Envision Academy for Arts &amp; Technology</td>\n",
       "      <td>Alameda County Office of Education</td>\n",
       "      <td>Alameda</td>\n",
       "      <td>93</td>\n",
       "      <td>16</td>\n",
       "      <td>20</td>\n",
       "      <td>19</td>\n",
       "      <td>20</td>\n",
       "      <td>20</td>\n",
       "      <td>8</td>\n",
       "      <td>50</td>\n",
       "      <td>2017-18</td>\n",
       "    </tr>\n",
       "    <tr>\n",
       "      <th>4</th>\n",
       "      <td>1.316170e+12</td>\n",
       "      <td>1</td>\n",
       "      <td>131617</td>\n",
       "      <td>131763</td>\n",
       "      <td>S</td>\n",
       "      <td>California School for the Deaf-Fremont</td>\n",
       "      <td>California School for the Deaf-Fremont (State ...</td>\n",
       "      <td>Alameda</td>\n",
       "      <td>76</td>\n",
       "      <td>26</td>\n",
       "      <td>12</td>\n",
       "      <td>15</td>\n",
       "      <td>15</td>\n",
       "      <td>16</td>\n",
       "      <td>0</td>\n",
       "      <td>0</td>\n",
       "      <td>2017-18</td>\n",
       "    </tr>\n",
       "  </tbody>\n",
       "</table>\n",
       "</div>"
      ],
      "text/plain": [
       "            cds  Ccode  CDcode   Scode rtype  \\\n",
       "0  0.000000e+00      0       0       0     X   \n",
       "1  1.000000e+12      1  100000       0     C   \n",
       "2  1.100170e+12      1  110017       0     D   \n",
       "3  1.100170e+12      1  110017  112607     S   \n",
       "4  1.316170e+12      1  131617  131763     S   \n",
       "\n",
       "                                    sname  \\\n",
       "0                                           \n",
       "1                                           \n",
       "2                                     NaN   \n",
       "3  Envision Academy for Arts & Technology   \n",
       "4  California School for the Deaf-Fremont   \n",
       "\n",
       "                                               dname    cname  enroll12  \\\n",
       "0                                                                489221   \n",
       "1                                                     Alameda     17476   \n",
       "2                 Alameda County Office of Education  Alameda       249   \n",
       "3                 Alameda County Office of Education  Alameda        93   \n",
       "4  California School for the Deaf-Fremont (State ...  Alameda        76   \n",
       "\n",
       "   NumTstTakr AvgScrEng AvgScrRead AvgScrMath AvgScrSci NumGE21 PctGE21  \\\n",
       "0      100197        22         23         22        22   56664   56.55   \n",
       "1        4120        25         25         25        24    2879   69.88   \n",
       "2          16        20         19         20        20       8      50   \n",
       "3          16        20         19         20        20       8      50   \n",
       "4          26        12         15         15        16       0       0   \n",
       "\n",
       "      year  \n",
       "0  2017-18  \n",
       "1  2017-18  \n",
       "2  2017-18  \n",
       "3  2017-18  \n",
       "4  2017-18  "
      ]
     },
     "execution_count": 13,
     "metadata": {},
     "output_type": "execute_result"
    }
   ],
   "source": [
    "act18.head(5)"
   ]
  },
  {
   "cell_type": "code",
   "execution_count": 14,
   "metadata": {
    "ExecuteTime": {
     "end_time": "2021-01-03T04:41:08.726138Z",
     "start_time": "2021-01-03T04:41:08.712028Z"
    }
   },
   "outputs": [
    {
     "data": {
      "text/html": [
       "<div>\n",
       "<style scoped>\n",
       "    .dataframe tbody tr th:only-of-type {\n",
       "        vertical-align: middle;\n",
       "    }\n",
       "\n",
       "    .dataframe tbody tr th {\n",
       "        vertical-align: top;\n",
       "    }\n",
       "\n",
       "    .dataframe thead th {\n",
       "        text-align: right;\n",
       "    }\n",
       "</style>\n",
       "<table border=\"1\" class=\"dataframe\">\n",
       "  <thead>\n",
       "    <tr style=\"text-align: right;\">\n",
       "      <th></th>\n",
       "      <th>CDS</th>\n",
       "      <th>CCode</th>\n",
       "      <th>CDCode</th>\n",
       "      <th>SCode</th>\n",
       "      <th>RType</th>\n",
       "      <th>SName</th>\n",
       "      <th>DName</th>\n",
       "      <th>CName</th>\n",
       "      <th>Enroll12</th>\n",
       "      <th>NumTstTakr</th>\n",
       "      <th>AvgScrRead</th>\n",
       "      <th>AvgScrEng</th>\n",
       "      <th>AvgScrMath</th>\n",
       "      <th>AvgScrSci</th>\n",
       "      <th>NumGE21</th>\n",
       "      <th>PctGE21</th>\n",
       "      <th>Year</th>\n",
       "      <th>Unnamed: 17</th>\n",
       "    </tr>\n",
       "  </thead>\n",
       "  <tbody>\n",
       "    <tr>\n",
       "      <th>0</th>\n",
       "      <td>3.366993e+13</td>\n",
       "      <td>33.0</td>\n",
       "      <td>3366993.0</td>\n",
       "      <td>129882.0</td>\n",
       "      <td>S</td>\n",
       "      <td>21st Century Learning Institute</td>\n",
       "      <td>Beaumont Unified</td>\n",
       "      <td>Riverside</td>\n",
       "      <td>18.0</td>\n",
       "      <td>0.0</td>\n",
       "      <td>NaN</td>\n",
       "      <td>NaN</td>\n",
       "      <td>NaN</td>\n",
       "      <td>NaN</td>\n",
       "      <td>NaN</td>\n",
       "      <td>NaN</td>\n",
       "      <td>2018-19</td>\n",
       "      <td>NaN</td>\n",
       "    </tr>\n",
       "    <tr>\n",
       "      <th>1</th>\n",
       "      <td>1.964212e+13</td>\n",
       "      <td>19.0</td>\n",
       "      <td>1964212.0</td>\n",
       "      <td>1995596.0</td>\n",
       "      <td>S</td>\n",
       "      <td>ABC Secondary (Alternative)</td>\n",
       "      <td>ABC Unified</td>\n",
       "      <td>Los Angeles</td>\n",
       "      <td>58.0</td>\n",
       "      <td>0.0</td>\n",
       "      <td>NaN</td>\n",
       "      <td>NaN</td>\n",
       "      <td>NaN</td>\n",
       "      <td>NaN</td>\n",
       "      <td>NaN</td>\n",
       "      <td>NaN</td>\n",
       "      <td>2018-19</td>\n",
       "      <td>NaN</td>\n",
       "    </tr>\n",
       "    <tr>\n",
       "      <th>2</th>\n",
       "      <td>1.563776e+13</td>\n",
       "      <td>15.0</td>\n",
       "      <td>1563776.0</td>\n",
       "      <td>1530377.0</td>\n",
       "      <td>S</td>\n",
       "      <td>Abraham Lincoln Alternative</td>\n",
       "      <td>Southern Kern Unified</td>\n",
       "      <td>Kern</td>\n",
       "      <td>18.0</td>\n",
       "      <td>0.0</td>\n",
       "      <td>NaN</td>\n",
       "      <td>NaN</td>\n",
       "      <td>NaN</td>\n",
       "      <td>NaN</td>\n",
       "      <td>NaN</td>\n",
       "      <td>NaN</td>\n",
       "      <td>2018-19</td>\n",
       "      <td>NaN</td>\n",
       "    </tr>\n",
       "    <tr>\n",
       "      <th>3</th>\n",
       "      <td>4.369666e+13</td>\n",
       "      <td>43.0</td>\n",
       "      <td>4369666.0</td>\n",
       "      <td>4333795.0</td>\n",
       "      <td>S</td>\n",
       "      <td>Abraham Lincoln High</td>\n",
       "      <td>San Jose Unified</td>\n",
       "      <td>Santa Clara</td>\n",
       "      <td>463.0</td>\n",
       "      <td>53.0</td>\n",
       "      <td>23</td>\n",
       "      <td>22</td>\n",
       "      <td>22</td>\n",
       "      <td>23</td>\n",
       "      <td>34</td>\n",
       "      <td>64.15</td>\n",
       "      <td>2018-19</td>\n",
       "      <td>NaN</td>\n",
       "    </tr>\n",
       "    <tr>\n",
       "      <th>4</th>\n",
       "      <td>1.964733e+13</td>\n",
       "      <td>19.0</td>\n",
       "      <td>1964733.0</td>\n",
       "      <td>1935121.0</td>\n",
       "      <td>S</td>\n",
       "      <td>Abraham Lincoln Senior High</td>\n",
       "      <td>Los Angeles Unified</td>\n",
       "      <td>Los Angeles</td>\n",
       "      <td>226.0</td>\n",
       "      <td>19.0</td>\n",
       "      <td>21</td>\n",
       "      <td>20</td>\n",
       "      <td>23</td>\n",
       "      <td>22</td>\n",
       "      <td>11</td>\n",
       "      <td>57.89</td>\n",
       "      <td>2018-19</td>\n",
       "      <td>NaN</td>\n",
       "    </tr>\n",
       "  </tbody>\n",
       "</table>\n",
       "</div>"
      ],
      "text/plain": [
       "            CDS  CCode     CDCode      SCode RType  \\\n",
       "0  3.366993e+13   33.0  3366993.0   129882.0     S   \n",
       "1  1.964212e+13   19.0  1964212.0  1995596.0     S   \n",
       "2  1.563776e+13   15.0  1563776.0  1530377.0     S   \n",
       "3  4.369666e+13   43.0  4369666.0  4333795.0     S   \n",
       "4  1.964733e+13   19.0  1964733.0  1935121.0     S   \n",
       "\n",
       "                             SName                  DName        CName  \\\n",
       "0  21st Century Learning Institute       Beaumont Unified    Riverside   \n",
       "1      ABC Secondary (Alternative)            ABC Unified  Los Angeles   \n",
       "2      Abraham Lincoln Alternative  Southern Kern Unified         Kern   \n",
       "3             Abraham Lincoln High       San Jose Unified  Santa Clara   \n",
       "4      Abraham Lincoln Senior High    Los Angeles Unified  Los Angeles   \n",
       "\n",
       "   Enroll12  NumTstTakr AvgScrRead AvgScrEng AvgScrMath AvgScrSci NumGE21  \\\n",
       "0      18.0         0.0        NaN       NaN        NaN       NaN     NaN   \n",
       "1      58.0         0.0        NaN       NaN        NaN       NaN     NaN   \n",
       "2      18.0         0.0        NaN       NaN        NaN       NaN     NaN   \n",
       "3     463.0        53.0         23        22         22        23      34   \n",
       "4     226.0        19.0         21        20         23        22      11   \n",
       "\n",
       "  PctGE21     Year  Unnamed: 17  \n",
       "0     NaN  2018-19          NaN  \n",
       "1     NaN  2018-19          NaN  \n",
       "2     NaN  2018-19          NaN  \n",
       "3   64.15  2018-19          NaN  \n",
       "4   57.89  2018-19          NaN  "
      ]
     },
     "execution_count": 14,
     "metadata": {},
     "output_type": "execute_result"
    }
   ],
   "source": [
    "act19.head(5)"
   ]
  },
  {
   "cell_type": "code",
   "execution_count": 15,
   "metadata": {
    "ExecuteTime": {
     "end_time": "2021-01-03T04:41:08.734350Z",
     "start_time": "2021-01-03T04:41:08.727471Z"
    }
   },
   "outputs": [
    {
     "data": {
      "text/html": [
       "<div>\n",
       "<style scoped>\n",
       "    .dataframe tbody tr th:only-of-type {\n",
       "        vertical-align: middle;\n",
       "    }\n",
       "\n",
       "    .dataframe tbody tr th {\n",
       "        vertical-align: top;\n",
       "    }\n",
       "\n",
       "    .dataframe thead th {\n",
       "        text-align: right;\n",
       "    }\n",
       "</style>\n",
       "<table border=\"1\" class=\"dataframe\">\n",
       "  <thead>\n",
       "    <tr style=\"text-align: right;\">\n",
       "      <th></th>\n",
       "      <th>Year</th>\n",
       "      <th>Period</th>\n",
       "      <th>Area</th>\n",
       "      <th>Income Source</th>\n",
       "      <th>Income Type</th>\n",
       "      <th>Income</th>\n",
       "    </tr>\n",
       "  </thead>\n",
       "  <tbody>\n",
       "    <tr>\n",
       "      <th>0</th>\n",
       "      <td>2018</td>\n",
       "      <td>Annual</td>\n",
       "      <td>Alameda County</td>\n",
       "      <td>U.S. BEA - Local Data</td>\n",
       "      <td>Per Capita Personal Income - BEA</td>\n",
       "      <td>$76,644</td>\n",
       "    </tr>\n",
       "    <tr>\n",
       "      <th>1</th>\n",
       "      <td>2018</td>\n",
       "      <td>Annual</td>\n",
       "      <td>Alpine County</td>\n",
       "      <td>U.S. BEA - Local Data</td>\n",
       "      <td>Per Capita Personal Income - BEA</td>\n",
       "      <td>$73,307</td>\n",
       "    </tr>\n",
       "    <tr>\n",
       "      <th>2</th>\n",
       "      <td>2018</td>\n",
       "      <td>Annual</td>\n",
       "      <td>Amador County</td>\n",
       "      <td>U.S. BEA - Local Data</td>\n",
       "      <td>Per Capita Personal Income - BEA</td>\n",
       "      <td>$44,793</td>\n",
       "    </tr>\n",
       "    <tr>\n",
       "      <th>3</th>\n",
       "      <td>2018</td>\n",
       "      <td>Annual</td>\n",
       "      <td>Butte County</td>\n",
       "      <td>U.S. BEA - Local Data</td>\n",
       "      <td>Per Capita Personal Income - BEA</td>\n",
       "      <td>$44,346</td>\n",
       "    </tr>\n",
       "    <tr>\n",
       "      <th>4</th>\n",
       "      <td>2018</td>\n",
       "      <td>Annual</td>\n",
       "      <td>Calaveras County</td>\n",
       "      <td>U.S. BEA - Local Data</td>\n",
       "      <td>Per Capita Personal Income - BEA</td>\n",
       "      <td>$49,893</td>\n",
       "    </tr>\n",
       "  </tbody>\n",
       "</table>\n",
       "</div>"
      ],
      "text/plain": [
       "   Year  Period              Area          Income Source  \\\n",
       "0  2018  Annual    Alameda County  U.S. BEA - Local Data   \n",
       "1  2018  Annual     Alpine County  U.S. BEA - Local Data   \n",
       "2  2018  Annual     Amador County  U.S. BEA - Local Data   \n",
       "3  2018  Annual      Butte County  U.S. BEA - Local Data   \n",
       "4  2018  Annual  Calaveras County  U.S. BEA - Local Data   \n",
       "\n",
       "                        Income Type    Income  \n",
       "0  Per Capita Personal Income - BEA  $76,644   \n",
       "1  Per Capita Personal Income - BEA  $73,307   \n",
       "2  Per Capita Personal Income - BEA  $44,793   \n",
       "3  Per Capita Personal Income - BEA  $44,346   \n",
       "4  Per Capita Personal Income - BEA  $49,893   "
      ]
     },
     "execution_count": 15,
     "metadata": {},
     "output_type": "execute_result"
    }
   ],
   "source": [
    "income.head(5)"
   ]
  },
  {
   "cell_type": "markdown",
   "metadata": {},
   "source": [
    "### 2. Data Cleaning\n",
    "\n",
    "Below I clean data from the three different group of data sets.\n",
    "First check for empty columns and missing values, then I check for data consistency and then I fix problems. I do so proceeding group by group (in this order: SAT, ACT and ACGR). "
   ]
  },
  {
   "cell_type": "markdown",
   "metadata": {},
   "source": [
    "#### SAT"
   ]
  },
  {
   "cell_type": "code",
   "execution_count": 16,
   "metadata": {
    "ExecuteTime": {
     "end_time": "2021-01-03T04:41:09.737307Z",
     "start_time": "2021-01-03T04:41:08.735712Z"
    }
   },
   "outputs": [
    {
     "data": {
      "image/png": "[encoded data removed]",
      "text/plain": [
       "<Figure size 1800x720 with 2 Axes>"
      ]
     },
     "metadata": {
      "needs_background": "light"
     },
     "output_type": "display_data"
    },
    {
     "data": {
      "image/png": "[encoded data removed]",
      "text/plain": [
       "<Figure size 1800x720 with 2 Axes>"
      ]
     },
     "metadata": {
      "needs_background": "light"
     },
     "output_type": "display_data"
    },
    {
     "data": {
      "image/png": "[encoded data removed]",
      "text/plain": [
       "<Figure size 1800x720 with 2 Axes>"
      ]
     },
     "metadata": {
      "needs_background": "light"
     },
     "output_type": "display_data"
    }
   ],
   "source": [
    "msno.matrix(sat17.sample(250));\n",
    "msno.matrix(sat18.sample(250));\n",
    "msno.matrix(sat19.sample(250));\n",
    "#SAT19 has a Unnamed column empty to be dropped"
   ]
  },
  {
   "cell_type": "code",
   "execution_count": 17,
   "metadata": {
    "ExecuteTime": {
     "end_time": "2021-01-03T04:41:09.751534Z",
     "start_time": "2021-01-03T04:41:09.739390Z"
    }
   },
   "outputs": [
    {
     "data": {
      "text/plain": [
       "CDS                         1\n",
       "CCode                       1\n",
       "CDCode                      1\n",
       "SCode                       1\n",
       "RType                       1\n",
       "SName                     598\n",
       "DName                      59\n",
       "CName                       1\n",
       "Enroll12                    1\n",
       "NumTSTTakr12                1\n",
       "NumERWBenchmark12         276\n",
       "PctERWBenchmark12         276\n",
       "NumMathBenchmark12        276\n",
       "PctMathBenchmark12        276\n",
       "Enroll11                    1\n",
       "NumTSTTakr11                1\n",
       "NumERWBenchmark11         311\n",
       "PctERWBenchmark11         311\n",
       "NumMathBenchmark11        311\n",
       "PctMathBenchmark11        311\n",
       "TotNumBothBenchmark12     276\n",
       "PctBothBenchmark12        276\n",
       "TotNumBothBenchmark11     311\n",
       "PctBothBenchmark11        311\n",
       "Year                        1\n",
       "Unnamed: 25              2580\n",
       "dtype: int64"
      ]
     },
     "execution_count": 17,
     "metadata": {},
     "output_type": "execute_result"
    }
   ],
   "source": [
    "sat17.isnull().sum() #179 empty\n",
    "sat18.isnull().sum() #165 empty\n",
    "sat19.isnull().sum() #311 empty\n",
    "\n",
    "#sat17 does not have the year column.\n",
    "#sat19 has one row and one column entirely blank."
   ]
  },
  {
   "cell_type": "code",
   "execution_count": 18,
   "metadata": {
    "ExecuteTime": {
     "end_time": "2021-01-03T04:41:09.755465Z",
     "start_time": "2021-01-03T04:41:09.752946Z"
    }
   },
   "outputs": [],
   "source": [
    "sat17['year'] = '2016-17'"
   ]
  },
  {
   "cell_type": "code",
   "execution_count": 19,
   "metadata": {
    "ExecuteTime": {
     "end_time": "2021-01-03T04:41:09.769633Z",
     "start_time": "2021-01-03T04:41:09.756794Z"
    }
   },
   "outputs": [],
   "source": [
    "sat19.dropna(\n",
    "    axis=0,\n",
    "    how='all',\n",
    "    thresh=None,\n",
    "    subset=None,\n",
    "    inplace=True\n",
    ")"
   ]
  },
  {
   "cell_type": "code",
   "execution_count": 20,
   "metadata": {
    "ExecuteTime": {
     "end_time": "2021-01-03T04:41:09.773947Z",
     "start_time": "2021-01-03T04:41:09.770919Z"
    }
   },
   "outputs": [],
   "source": [
    "sat19= sat19.drop(columns=['Unnamed: 25'])"
   ]
  },
  {
   "cell_type": "code",
   "execution_count": 21,
   "metadata": {
    "ExecuteTime": {
     "end_time": "2021-01-03T04:41:09.781408Z",
     "start_time": "2021-01-03T04:41:09.775224Z"
    }
   },
   "outputs": [],
   "source": [
    "#Dropping columns that are not relevant for the current analysis.\n",
    "#In particular, from 2017 and 2018 have been dropped the columns about old and current\n",
    "##scores calculation, keeping only the aggregate.\n",
    "#From 2019 have been dropped the test results of Grade 11\n",
    "sat17 = sat17.drop(columns = ['NumPreElaBenchmark','NumCurrElaBenchmark', 'NumCurrMathBenchmark', 'NumPreMathBenchmark'])\n",
    "sat18 = sat18.drop(columns = ['NumPreElaBenchmark','NumCurrElaBenchmark', 'NumCurrMathBenchmark', 'NumPreMathBenchmark'])\n",
    "sat19 = sat19.drop(columns=['Enroll11','NumTSTTakr11','NumERWBenchmark11','PctERWBenchmark11', 'NumMathBenchmark11', 'PctMathBenchmark11', 'TotNumBothBenchmark11','PctBothBenchmark11'])"
   ]
  },
  {
   "cell_type": "code",
   "execution_count": 26,
   "metadata": {
    "ExecuteTime": {
     "end_time": "2021-01-03T04:42:30.952600Z",
     "start_time": "2021-01-03T04:42:30.942276Z"
    }
   },
   "outputs": [],
   "source": [
    "#transform \"*\" in NaN\n",
    "sat17 = sat17.replace('*', 0)\n",
    "sat18 = sat18.replace('*', 0)\n",
    "sat19 = sat19.replace('*', 0)"
   ]
  },
  {
   "cell_type": "code",
   "execution_count": 27,
   "metadata": {
    "ExecuteTime": {
     "end_time": "2021-01-03T04:42:32.388551Z",
     "start_time": "2021-01-03T04:42:32.383388Z"
    }
   },
   "outputs": [
    {
     "data": {
      "text/plain": [
       "CDS                      float64\n",
       "CCode                    float64\n",
       "CDCode                   float64\n",
       "SCode                    float64\n",
       "RType                     object\n",
       "SName                     object\n",
       "DName                     object\n",
       "CName                     object\n",
       "Enroll12                 float64\n",
       "NumTSTTakr12             float64\n",
       "NumERWBenchmark12         object\n",
       "PctERWBenchmark12         object\n",
       "NumMathBenchmark12        object\n",
       "PctMathBenchmark12        object\n",
       "TotNumBothBenchmark12     object\n",
       "PctBothBenchmark12        object\n",
       "Year                      object\n",
       "dtype: object"
      ]
     },
     "execution_count": 27,
     "metadata": {},
     "output_type": "execute_result"
    }
   ],
   "source": [
    "sat17.dtypes\n",
    "sat18.dtypes\n",
    "sat19.dtypes\n",
    "#Many columns, due to the '*' are objects, and should be numeric"
   ]
  },
  {
   "cell_type": "code",
   "execution_count": 28,
   "metadata": {
    "ExecuteTime": {
     "end_time": "2021-01-03T04:42:35.283070Z",
     "start_time": "2021-01-03T04:42:35.240685Z"
    }
   },
   "outputs": [],
   "source": [
    "sat17[['TotNumElaBenchmark','PctElaBenchmark', 'TotNumMathBenchmark', 'PctMathBenchmark', 'TotNumBothBenchmark','PctBothBenchmark']]= sat17[['TotNumElaBenchmark','PctElaBenchmark', 'TotNumMathBenchmark', 'PctMathBenchmark', 'TotNumBothBenchmark','PctBothBenchmark']].apply(pd.to_numeric)\n",
    "sat18[['TotNumElaBenchmark','PctElaBenchmark', 'TotNumMathBenchmark', 'PctMathBenchmark', 'TotNumBothBenchmark','PctBothBenchmark']]= sat18[['TotNumElaBenchmark','PctElaBenchmark', 'TotNumMathBenchmark', 'PctMathBenchmark', 'TotNumBothBenchmark','PctBothBenchmark']].apply(pd.to_numeric)\n",
    "sat19[['NumERWBenchmark12', 'PctERWBenchmark12', 'NumMathBenchmark12', 'PctMathBenchmark12', 'TotNumBothBenchmark12', 'PctBothBenchmark12', 'PctBothBenchmark12']]= sat19[['NumERWBenchmark12', 'PctERWBenchmark12', 'NumMathBenchmark12', 'PctMathBenchmark12', 'TotNumBothBenchmark12', 'PctBothBenchmark12', 'PctBothBenchmark12']].apply(pd.to_numeric)\n",
    "sat17[['cds','Ccode', 'CDcode','Scode']]= sat17[['cds','Ccode', 'CDcode','Scode']].to_string\n",
    "sat18[['cds','Ccode', 'CDcode','Scode']]= sat18[['cds','Ccode', 'CDcode','Scode']].to_string\n",
    "sat19[['CDS','CCode', 'CDCode','SCode']]= sat19[['CDS','CCode', 'CDCode','SCode']].to_string"
   ]
  },
  {
   "cell_type": "code",
   "execution_count": 29,
   "metadata": {
    "ExecuteTime": {
     "end_time": "2021-01-03T04:42:37.650537Z",
     "start_time": "2021-01-03T04:42:37.646760Z"
    }
   },
   "outputs": [],
   "source": [
    "def columns_format(old_col):\n",
    "    \"\"\"Takes an input string assuming is Camel Case\n",
    "        and returns it as a all lower caps snake string\"\"\"\n",
    "    if old_col[0].isupper():\n",
    "        if len(old_col)>6:\n",
    "            new_col = [a.lower() for a in re.findall(r'[A-Z](?:[A-Z]*(?![a-z])|[a-z]*)', old_col) if a]\n",
    "            return '_'.join(new_col)\n",
    "        else:\n",
    "            return old_col.lower()\n",
    "    elif(old_col[0].islower()):\n",
    "        return old_col"
   ]
  },
  {
   "cell_type": "code",
   "execution_count": 30,
   "metadata": {
    "ExecuteTime": {
     "end_time": "2021-01-03T04:42:39.746300Z",
     "start_time": "2021-01-03T04:42:39.742015Z"
    }
   },
   "outputs": [],
   "source": [
    "sat19 = sat19.rename(columns=columns_format)\n",
    "sat18 = sat18.rename(columns=columns_format)\n",
    "sat_labels = list(sat19)\n",
    "sat17.columns= sat_labels\n",
    "sat18.columns= sat_labels"
   ]
  },
  {
   "cell_type": "markdown",
   "metadata": {
    "ExecuteTime": {
     "end_time": "2021-01-02T21:02:39.712136Z",
     "start_time": "2021-01-02T21:02:39.709187Z"
    }
   },
   "source": [
    "**Merge SAT Data Frames**\n",
    "\n",
    "Merging 2017 and 2018, not 2019 as they have more information"
   ]
  },
  {
   "cell_type": "code",
   "execution_count": 31,
   "metadata": {
    "ExecuteTime": {
     "end_time": "2021-01-03T04:43:32.763692Z",
     "start_time": "2021-01-03T04:42:43.025641Z"
    }
   },
   "outputs": [],
   "source": [
    "satdfs = [sat17, sat18, sat19]\n",
    "sat = pd.concat(satdfs)\n",
    "sat.to_csv('./data/sat_ca.csv', index=False)"
   ]
  },
  {
   "cell_type": "code",
   "execution_count": 33,
   "metadata": {
    "ExecuteTime": {
     "end_time": "2021-01-03T04:44:01.652074Z",
     "start_time": "2021-01-03T04:44:01.644213Z"
    }
   },
   "outputs": [
    {
     "data": {
      "text/plain": [
       "cds                          0\n",
       "ccode                        0\n",
       "cdcode                       0\n",
       "scode                        0\n",
       "rtype                        0\n",
       "sname                     1775\n",
       "dname                      176\n",
       "cname                        2\n",
       "enroll                       0\n",
       "num_tst_takr                 0\n",
       "num_erw_benchmark          619\n",
       "pct_erw_benchmark          619\n",
       "num_math_benchmark         619\n",
       "pct_math_benchmark         619\n",
       "tot_num_both_benchmark     619\n",
       "pct_both_benchmark         619\n",
       "year                         0\n",
       "dtype: int64"
      ]
     },
     "execution_count": 33,
     "metadata": {},
     "output_type": "execute_result"
    }
   ],
   "source": [
    "sat.isnull().sum()"
   ]
  },
  {
   "cell_type": "code",
   "execution_count": 34,
   "metadata": {
    "ExecuteTime": {
     "end_time": "2021-01-03T04:44:39.876679Z",
     "start_time": "2021-01-03T04:44:39.873739Z"
    }
   },
   "outputs": [],
   "source": [
    "sat['enroll'] = sat['enroll'].astype(int)\n",
    "sat['num_tst_takr'] = sat['num_tst_takr'].astype(int)"
   ]
  },
  {
   "cell_type": "code",
   "execution_count": 35,
   "metadata": {
    "ExecuteTime": {
     "end_time": "2021-01-03T04:44:45.622932Z",
     "start_time": "2021-01-03T04:44:45.610921Z"
    }
   },
   "outputs": [
    {
     "name": "stdout",
     "output_type": "stream",
     "text": [
      "<class 'pandas.core.frame.DataFrame'>\n",
      "Int64Index: 7463 entries, 0 to 2578\n",
      "Data columns (total 17 columns):\n",
      " #   Column                  Non-Null Count  Dtype  \n",
      "---  ------                  --------------  -----  \n",
      " 0   cds                     7463 non-null   object \n",
      " 1   ccode                   7463 non-null   object \n",
      " 2   cdcode                  7463 non-null   object \n",
      " 3   scode                   7463 non-null   object \n",
      " 4   rtype                   7463 non-null   object \n",
      " 5   sname                   5688 non-null   object \n",
      " 6   dname                   7287 non-null   object \n",
      " 7   cname                   7461 non-null   object \n",
      " 8   enroll                  7463 non-null   int64  \n",
      " 9   num_tst_takr            7463 non-null   int64  \n",
      " 10  num_erw_benchmark       6844 non-null   float64\n",
      " 11  pct_erw_benchmark       6844 non-null   float64\n",
      " 12  num_math_benchmark      6844 non-null   float64\n",
      " 13  pct_math_benchmark      6844 non-null   float64\n",
      " 14  tot_num_both_benchmark  6844 non-null   float64\n",
      " 15  pct_both_benchmark      6844 non-null   float64\n",
      " 16  year                    7463 non-null   object \n",
      "dtypes: float64(6), int64(2), object(9)\n",
      "memory usage: 1.0+ MB\n"
     ]
    }
   ],
   "source": [
    "sat.info()"
   ]
  },
  {
   "cell_type": "markdown",
   "metadata": {},
   "source": [
    "#### ACT"
   ]
  },
  {
   "cell_type": "code",
   "execution_count": 36,
   "metadata": {
    "ExecuteTime": {
     "end_time": "2021-01-03T04:44:49.374297Z",
     "start_time": "2021-01-03T04:44:48.536176Z"
    },
    "scrolled": true
   },
   "outputs": [
    {
     "data": {
      "image/png": "[encoded data removed]",
      "text/plain": [
       "<Figure size 1800x720 with 2 Axes>"
      ]
     },
     "metadata": {
      "needs_background": "light"
     },
     "output_type": "display_data"
    },
    {
     "data": {
      "image/png": "[encoded data removed]",
      "text/plain": [
       "<Figure size 1800x720 with 2 Axes>"
      ]
     },
     "metadata": {
      "needs_background": "light"
     },
     "output_type": "display_data"
    },
    {
     "data": {
      "image/png": "[encoded data removed]",
      "text/plain": [
       "<Figure size 1800x720 with 2 Axes>"
      ]
     },
     "metadata": {
      "needs_background": "light"
     },
     "output_type": "display_data"
    }
   ],
   "source": [
    "msno.matrix(act17.sample(250));\n",
    "msno.matrix(act18.sample(250));\n",
    "msno.matrix(act19.sample(250));\n",
    "#ACT19 has a Unnamed column empty to be dropped"
   ]
  },
  {
   "cell_type": "code",
   "execution_count": 37,
   "metadata": {
    "ExecuteTime": {
     "end_time": "2021-01-03T04:44:52.774754Z",
     "start_time": "2021-01-03T04:44:52.765635Z"
    }
   },
   "outputs": [
    {
     "data": {
      "text/plain": [
       "CDS               1\n",
       "CCode             1\n",
       "CDCode            1\n",
       "SCode           523\n",
       "RType             1\n",
       "SName           581\n",
       "DName            59\n",
       "CName             1\n",
       "Enroll12          1\n",
       "NumTstTakr        1\n",
       "AvgScrRead      357\n",
       "AvgScrEng       357\n",
       "AvgScrMath      357\n",
       "AvgScrSci       357\n",
       "NumGE21         357\n",
       "PctGE21         357\n",
       "Year              1\n",
       "Unnamed: 17    2310\n",
       "dtype: int64"
      ]
     },
     "execution_count": 37,
     "metadata": {},
     "output_type": "execute_result"
    }
   ],
   "source": [
    "act17.isnull().sum() # empty 320\n",
    "act18.isnull().sum() # empty 263\n",
    "act19.isnull().sum() # empty 357\n",
    "\n",
    "#act17 does not have 'year' column\n",
    "#act19 has a row and a column entirely empty"
   ]
  },
  {
   "cell_type": "code",
   "execution_count": 38,
   "metadata": {
    "ExecuteTime": {
     "end_time": "2021-01-03T04:44:55.490884Z",
     "start_time": "2021-01-03T04:44:55.488171Z"
    }
   },
   "outputs": [],
   "source": [
    "act17['year'] = '2016-17'"
   ]
  },
  {
   "cell_type": "code",
   "execution_count": 39,
   "metadata": {
    "ExecuteTime": {
     "end_time": "2021-01-03T04:44:57.474219Z",
     "start_time": "2021-01-03T04:44:57.468411Z"
    }
   },
   "outputs": [],
   "source": [
    "act19.dropna(\n",
    "    axis=0,\n",
    "    how='all',\n",
    "    thresh=None,\n",
    "    subset=None,\n",
    "    inplace=True\n",
    ")"
   ]
  },
  {
   "cell_type": "code",
   "execution_count": 40,
   "metadata": {
    "ExecuteTime": {
     "end_time": "2021-01-03T04:44:58.911164Z",
     "start_time": "2021-01-03T04:44:58.907808Z"
    }
   },
   "outputs": [],
   "source": [
    "act19= act19.drop(columns=['Unnamed: 17'])"
   ]
  },
  {
   "cell_type": "code",
   "execution_count": 42,
   "metadata": {
    "ExecuteTime": {
     "end_time": "2021-01-03T04:45:25.177320Z",
     "start_time": "2021-01-03T04:45:25.167007Z"
    }
   },
   "outputs": [],
   "source": [
    "#transform \"*\" in 0\n",
    "act17 = act17.replace('*', 0)\n",
    "act18 = act18.replace('*', 0)\n",
    "act19 = act19.replace('*', 0)"
   ]
  },
  {
   "cell_type": "code",
   "execution_count": 43,
   "metadata": {
    "ExecuteTime": {
     "end_time": "2021-01-03T04:45:30.994827Z",
     "start_time": "2021-01-03T04:45:30.972569Z"
    }
   },
   "outputs": [
    {
     "data": {
      "text/html": [
       "<div>\n",
       "<style scoped>\n",
       "    .dataframe tbody tr th:only-of-type {\n",
       "        vertical-align: middle;\n",
       "    }\n",
       "\n",
       "    .dataframe tbody tr th {\n",
       "        vertical-align: top;\n",
       "    }\n",
       "\n",
       "    .dataframe thead th {\n",
       "        text-align: right;\n",
       "    }\n",
       "</style>\n",
       "<table border=\"1\" class=\"dataframe\">\n",
       "  <thead>\n",
       "    <tr style=\"text-align: right;\">\n",
       "      <th></th>\n",
       "      <th>CDS</th>\n",
       "      <th>CCode</th>\n",
       "      <th>CDCode</th>\n",
       "      <th>SCode</th>\n",
       "      <th>Enroll12</th>\n",
       "      <th>NumTstTakr</th>\n",
       "    </tr>\n",
       "  </thead>\n",
       "  <tbody>\n",
       "    <tr>\n",
       "      <th>count</th>\n",
       "      <td>2.309000e+03</td>\n",
       "      <td>2309.000000</td>\n",
       "      <td>2.309000e+03</td>\n",
       "      <td>1.787000e+03</td>\n",
       "      <td>2309.000000</td>\n",
       "      <td>2309.000000</td>\n",
       "    </tr>\n",
       "    <tr>\n",
       "      <th>mean</th>\n",
       "      <td>2.929718e+13</td>\n",
       "      <td>28.666522</td>\n",
       "      <td>2.855616e+06</td>\n",
       "      <td>1.902681e+06</td>\n",
       "      <td>828.172802</td>\n",
       "      <td>143.182763</td>\n",
       "    </tr>\n",
       "    <tr>\n",
       "      <th>std</th>\n",
       "      <td>1.444996e+13</td>\n",
       "      <td>14.425498</td>\n",
       "      <td>1.492574e+06</td>\n",
       "      <td>1.838954e+06</td>\n",
       "      <td>10667.048988</td>\n",
       "      <td>1816.545548</td>\n",
       "    </tr>\n",
       "    <tr>\n",
       "      <th>min</th>\n",
       "      <td>0.000000e+00</td>\n",
       "      <td>0.000000</td>\n",
       "      <td>0.000000e+00</td>\n",
       "      <td>0.000000e+00</td>\n",
       "      <td>0.000000</td>\n",
       "      <td>0.000000</td>\n",
       "    </tr>\n",
       "    <tr>\n",
       "      <th>25%</th>\n",
       "      <td>1.964725e+13</td>\n",
       "      <td>19.000000</td>\n",
       "      <td>1.964519e+06</td>\n",
       "      <td>1.254385e+05</td>\n",
       "      <td>78.000000</td>\n",
       "      <td>3.000000</td>\n",
       "    </tr>\n",
       "    <tr>\n",
       "      <th>50%</th>\n",
       "      <td>3.066647e+13</td>\n",
       "      <td>30.000000</td>\n",
       "      <td>3.066548e+06</td>\n",
       "      <td>1.930288e+06</td>\n",
       "      <td>218.000000</td>\n",
       "      <td>30.000000</td>\n",
       "    </tr>\n",
       "    <tr>\n",
       "      <th>75%</th>\n",
       "      <td>3.868478e+13</td>\n",
       "      <td>38.000000</td>\n",
       "      <td>3.777032e+06</td>\n",
       "      <td>3.435674e+06</td>\n",
       "      <td>497.000000</td>\n",
       "      <td>86.000000</td>\n",
       "    </tr>\n",
       "    <tr>\n",
       "      <th>max</th>\n",
       "      <td>5.872770e+13</td>\n",
       "      <td>58.000000</td>\n",
       "      <td>5.872769e+06</td>\n",
       "      <td>6.120893e+06</td>\n",
       "      <td>489650.000000</td>\n",
       "      <td>82668.000000</td>\n",
       "    </tr>\n",
       "  </tbody>\n",
       "</table>\n",
       "</div>"
      ],
      "text/plain": [
       "                CDS        CCode        CDCode         SCode       Enroll12  \\\n",
       "count  2.309000e+03  2309.000000  2.309000e+03  1.787000e+03    2309.000000   \n",
       "mean   2.929718e+13    28.666522  2.855616e+06  1.902681e+06     828.172802   \n",
       "std    1.444996e+13    14.425498  1.492574e+06  1.838954e+06   10667.048988   \n",
       "min    0.000000e+00     0.000000  0.000000e+00  0.000000e+00       0.000000   \n",
       "25%    1.964725e+13    19.000000  1.964519e+06  1.254385e+05      78.000000   \n",
       "50%    3.066647e+13    30.000000  3.066548e+06  1.930288e+06     218.000000   \n",
       "75%    3.868478e+13    38.000000  3.777032e+06  3.435674e+06     497.000000   \n",
       "max    5.872770e+13    58.000000  5.872769e+06  6.120893e+06  489650.000000   \n",
       "\n",
       "         NumTstTakr  \n",
       "count   2309.000000  \n",
       "mean     143.182763  \n",
       "std     1816.545548  \n",
       "min        0.000000  \n",
       "25%        3.000000  \n",
       "50%       30.000000  \n",
       "75%       86.000000  \n",
       "max    82668.000000  "
      ]
     },
     "execution_count": 43,
     "metadata": {},
     "output_type": "execute_result"
    }
   ],
   "source": [
    "act19.describe()"
   ]
  },
  {
   "cell_type": "code",
   "execution_count": 51,
   "metadata": {
    "ExecuteTime": {
     "end_time": "2021-01-03T04:48:15.568429Z",
     "start_time": "2021-01-03T04:48:15.563470Z"
    }
   },
   "outputs": [
    {
     "data": {
      "text/plain": [
       "cds              object\n",
       "ccode            object\n",
       "cdcode           object\n",
       "scode            object\n",
       "rtype            object\n",
       "sname            object\n",
       "dname            object\n",
       "cname            object\n",
       "enroll          float64\n",
       "num_tst_takr    float64\n",
       "avg_scr_read    float64\n",
       "avg_scr_eng     float64\n",
       "avg_scr_math    float64\n",
       "avg_scr_sci     float64\n",
       "num_ge          float64\n",
       "pct_ge          float64\n",
       "year             object\n",
       "dtype: object"
      ]
     },
     "execution_count": 51,
     "metadata": {},
     "output_type": "execute_result"
    }
   ],
   "source": [
    "act17.dtypes\n",
    "act18.dtypes\n",
    "act19.dtypes"
   ]
  },
  {
   "cell_type": "code",
   "execution_count": 45,
   "metadata": {
    "ExecuteTime": {
     "end_time": "2021-01-03T04:45:40.888311Z",
     "start_time": "2021-01-03T04:45:40.850120Z"
    }
   },
   "outputs": [],
   "source": [
    "act17[['AvgScrRead','AvgScrEng','AvgScrMath','AvgScrSci','NumGE21', 'PctGE21']]= act17[['AvgScrRead','AvgScrEng','AvgScrMath','AvgScrSci','NumGE21', 'PctGE21']].apply(pd.to_numeric)\n",
    "act18[['AvgScrRead','AvgScrEng','AvgScrMath','AvgScrSci','NumGE21', 'PctGE21']]= act18[['AvgScrRead','AvgScrEng','AvgScrMath','AvgScrSci','NumGE21', 'PctGE21']].apply(pd.to_numeric)\n",
    "act19[['AvgScrRead','AvgScrEng','AvgScrMath','AvgScrSci','NumGE21', 'PctGE21']]= act19[['AvgScrRead','AvgScrEng','AvgScrMath','AvgScrSci','NumGE21', 'PctGE21']].apply(pd.to_numeric)\n",
    "act17[['cds','ccode', 'cdcode','ccode']]= act17[['cds','ccode', 'cdcode','scode']].to_string\n",
    "act18[['cds','Ccode', 'CDcode','Scode']]= act18[['cds','Ccode', 'CDcode','Scode']].to_string\n",
    "act19[['CDS','CCode', 'CDCode','SCode']]= act19[['CDS','CCode', 'CDCode','SCode']].to_string"
   ]
  },
  {
   "cell_type": "code",
   "execution_count": 52,
   "metadata": {
    "ExecuteTime": {
     "end_time": "2021-01-03T04:49:44.088825Z",
     "start_time": "2021-01-03T04:49:44.084010Z"
    }
   },
   "outputs": [],
   "source": [
    "act17 = act17.rename(columns=columns_format)\n",
    "act18 = act18.rename(columns=columns_format)\n",
    "act19 = act19.rename(columns=columns_format)\n",
    "act_labels = list(act19)\n",
    "act17.columns= act_labels\n",
    "act18.columns= act_labels"
   ]
  },
  {
   "cell_type": "markdown",
   "metadata": {
    "ExecuteTime": {
     "end_time": "2021-01-02T21:02:08.798419Z",
     "start_time": "2021-01-02T21:02:08.795299Z"
    }
   },
   "source": [
    "**Merge ACT Data Frames**"
   ]
  },
  {
   "cell_type": "code",
   "execution_count": 54,
   "metadata": {
    "ExecuteTime": {
     "end_time": "2021-01-03T04:50:53.348567Z",
     "start_time": "2021-01-03T04:50:12.186888Z"
    }
   },
   "outputs": [],
   "source": [
    "actdfs = [act17, act18, act19]\n",
    "act = pd.concat(actdfs)\n",
    "act.to_csv('./data/act_ca.csv', index=False)"
   ]
  },
  {
   "cell_type": "code",
   "execution_count": 62,
   "metadata": {
    "ExecuteTime": {
     "end_time": "2021-01-03T04:55:38.046458Z",
     "start_time": "2021-01-03T04:55:38.041256Z"
    }
   },
   "outputs": [],
   "source": [
    "act.dropna(axis=0, subset=['enroll'], inplace=True)"
   ]
  },
  {
   "cell_type": "code",
   "execution_count": 65,
   "metadata": {
    "ExecuteTime": {
     "end_time": "2021-01-03T04:56:04.818531Z",
     "start_time": "2021-01-03T04:56:04.815603Z"
    }
   },
   "outputs": [],
   "source": [
    "act['enroll'] = act['enroll'].astype(int)\n",
    "act['num_tst_takr'] = act['num_tst_takr'].astype(int)"
   ]
  },
  {
   "cell_type": "markdown",
   "metadata": {},
   "source": [
    "#### Income\n",
    "This dataset has columns that are not necessary and redundant, to be dropped."
   ]
  },
  {
   "cell_type": "code",
   "execution_count": 66,
   "metadata": {
    "ExecuteTime": {
     "end_time": "2021-01-03T04:56:16.183043Z",
     "start_time": "2021-01-03T04:56:16.177129Z"
    }
   },
   "outputs": [
    {
     "name": "stdout",
     "output_type": "stream",
     "text": [
      "<class 'pandas.core.frame.DataFrame'>\n",
      "RangeIndex: 58 entries, 0 to 57\n",
      "Data columns (total 6 columns):\n",
      " #   Column         Non-Null Count  Dtype \n",
      "---  ------         --------------  ----- \n",
      " 0   Year           58 non-null     int64 \n",
      " 1   Period         58 non-null     object\n",
      " 2   Area           58 non-null     object\n",
      " 3   Income Source  58 non-null     object\n",
      " 4   Income Type    58 non-null     object\n",
      " 5   Income         58 non-null     object\n",
      "dtypes: int64(1), object(5)\n",
      "memory usage: 2.8+ KB\n"
     ]
    }
   ],
   "source": [
    "income.info()"
   ]
  },
  {
   "cell_type": "code",
   "execution_count": 67,
   "metadata": {
    "ExecuteTime": {
     "end_time": "2021-01-03T04:56:18.093638Z",
     "start_time": "2021-01-03T04:56:18.090720Z"
    }
   },
   "outputs": [],
   "source": [
    "income = income.drop(columns=['Income Source', 'Income Type', 'Year', 'Period'])"
   ]
  },
  {
   "cell_type": "code",
   "execution_count": 68,
   "metadata": {
    "ExecuteTime": {
     "end_time": "2021-01-03T04:56:20.907033Z",
     "start_time": "2021-01-03T04:56:20.902802Z"
    }
   },
   "outputs": [],
   "source": [
    "#Making 'Income' into a number\n",
    "income['Income'] = income.apply(lambda x: int(x['Income'].replace(',', '').replace('$', '')),axis=1)"
   ]
  },
  {
   "cell_type": "code",
   "execution_count": 69,
   "metadata": {
    "ExecuteTime": {
     "end_time": "2021-01-03T04:56:22.099150Z",
     "start_time": "2021-01-03T04:56:22.095184Z"
    }
   },
   "outputs": [],
   "source": [
    "#Turning Area into consistent forma with SAT and ACT dataset\n",
    "income['Area'] = income.apply(lambda x: (x['Area'].replace('County', '')),axis=1)"
   ]
  },
  {
   "cell_type": "code",
   "execution_count": 70,
   "metadata": {
    "ExecuteTime": {
     "end_time": "2021-01-03T04:56:23.245153Z",
     "start_time": "2021-01-03T04:56:23.241923Z"
    }
   },
   "outputs": [],
   "source": [
    "income = income.rename(str.lower, axis='columns')\n",
    "income = income.rename(columns={'area': 'cname'})"
   ]
  },
  {
   "cell_type": "code",
   "execution_count": 71,
   "metadata": {
    "ExecuteTime": {
     "end_time": "2021-01-03T04:56:25.475886Z",
     "start_time": "2021-01-03T04:56:25.469278Z"
    }
   },
   "outputs": [
    {
     "data": {
      "text/html": [
       "<div>\n",
       "<style scoped>\n",
       "    .dataframe tbody tr th:only-of-type {\n",
       "        vertical-align: middle;\n",
       "    }\n",
       "\n",
       "    .dataframe tbody tr th {\n",
       "        vertical-align: top;\n",
       "    }\n",
       "\n",
       "    .dataframe thead th {\n",
       "        text-align: right;\n",
       "    }\n",
       "</style>\n",
       "<table border=\"1\" class=\"dataframe\">\n",
       "  <thead>\n",
       "    <tr style=\"text-align: right;\">\n",
       "      <th></th>\n",
       "      <th>cname</th>\n",
       "      <th>income</th>\n",
       "    </tr>\n",
       "  </thead>\n",
       "  <tbody>\n",
       "    <tr>\n",
       "      <th>0</th>\n",
       "      <td>Alameda</td>\n",
       "      <td>76644</td>\n",
       "    </tr>\n",
       "    <tr>\n",
       "      <th>1</th>\n",
       "      <td>Alpine</td>\n",
       "      <td>73307</td>\n",
       "    </tr>\n",
       "    <tr>\n",
       "      <th>2</th>\n",
       "      <td>Amador</td>\n",
       "      <td>44793</td>\n",
       "    </tr>\n",
       "    <tr>\n",
       "      <th>3</th>\n",
       "      <td>Butte</td>\n",
       "      <td>44346</td>\n",
       "    </tr>\n",
       "    <tr>\n",
       "      <th>4</th>\n",
       "      <td>Calaveras</td>\n",
       "      <td>49893</td>\n",
       "    </tr>\n",
       "  </tbody>\n",
       "</table>\n",
       "</div>"
      ],
      "text/plain": [
       "        cname  income\n",
       "0    Alameda    76644\n",
       "1     Alpine    73307\n",
       "2     Amador    44793\n",
       "3      Butte    44346\n",
       "4  Calaveras    49893"
      ]
     },
     "execution_count": 71,
     "metadata": {},
     "output_type": "execute_result"
    }
   ],
   "source": [
    "income.head(5)"
   ]
  },
  {
   "cell_type": "markdown",
   "metadata": {},
   "source": [
    "### Data Dictionary\n",
    "\n",
    "Now that we've fixed our data, and given it appropriate names, let's create a [data dictionary](http://library.ucmerced.edu/node/10249). \n",
    "\n",
    "A data dictionary provides a quick overview of features/variables/columns, alongside data types and descriptions. The more descriptive you can be, the more useful this document is.\n",
    "\n",
    "Example of a Fictional Data Dictionary Entry: \n",
    "\n",
    "|Feature|Type|Dataset|Description|\n",
    "|---|---|---|---|\n",
    "|**county_pop**|*integer*|2010 census|The population of the county (units in thousands, where 2.5 represents 2500 people).| \n",
    "|**per_poverty**|*float*|2010 census|The percent of the county over the age of 18 living below the 200% of official US poverty rate (units percent to two decimal places 98.10 means 98.1%)|\n",
    "\n",
    "[Here's a quick link to a short guide for formatting markdown in Jupyter notebooks](https://jupyter-notebook.readthedocs.io/en/stable/examples/Notebook/Working%20With%20Markdown%20Cells.html).\n",
    "\n",
    "Provided is the skeleton for formatting a markdown table, with columns headers that will help you create a data dictionary to quickly summarize your data, as well as some examples. **This would be a great thing to copy and paste into your custom README for this project.**\n",
    "\n",
    "*Note*: if you are unsure of what a feature is, check the source of the data! This can be found in the README."
   ]
  },
  {
   "cell_type": "markdown",
   "metadata": {},
   "source": [
    "### Data Dictionary\n",
    "|Feature|Type|Dataset|Description|\n",
    "|---|---|---|---|\n",
    "|**cds**|*object*|SAT/ACT|County/District/School Code|\n",
    "|**ccode**|*object*|SAT/ACT|County Code|\n",
    "|**cdcode**|*object*|SAT/ACT|District Code|\n",
    "|**scode**|*object*|SAT/ACT|School Code|\n",
    "|**rtype**|*object*|SAT/ACT|Record type; used for filtering for County District and School|\n",
    "|**sname**|*object*|SAT/ACT|School Name|\n",
    "|**dname**|*object*|SAT/ACT|District Name|\n",
    "|**cname**|*object*|SAT/ACT/income|County Name|\n",
    "|**income**|*object*|income|Per Capita Annual Income in 2018|\n",
    "|**year**|*object*|SAT/ACT|Test Administration Academic Year|\n",
    "|**enroll**|*int64*|SAT/ACT|Enrollment of Grade 12|\n",
    "|**num_tst_takr**|*int64*|SAT/ACT|Number of Test Takers of Grade 12|\n",
    "|**avg_scr_eng**|*float64*|ACT|Average ACT English Score|\n",
    "|**avg_scr_read**|*float64*|ACT|Average ACT Reading Score|\n",
    "|**avg_scr_math**|*float64*|ACT|Average ACT Math Score|\n",
    "|**avg_scr_sci**|*float64*|ACT|Average ACT Science Score|\n",
    "|**num_ge**|*float64*|ACT|Number of Test Takers whose ACT Composite Scores are Greater than 20|\n",
    "|**pct_ge**|*float64*|ACT|Percent of Test Takers whose ACT Composite Scores are Greater than 20|\n",
    "|**avg_scr_eng**|*float64*|SAT|The number of students meeting the Evidence-Based Reading & Writing (ERW) |\n",
    "|**pct_erw_benchmark**|*float64*|SAT|The percent of students who met or exceeded the benchmark for Evidence-Based Reading & Writing (ERW)|\n",
    "|**num_math_benchmark**|*float64*|SAT|The number of students who met or exceeded the benchmark for SAT Math test|\n",
    "|**pct_math_benchmark**|*float64*|SAT|The percent of students who met or exceeded the benchmark for SAT Math test|\n",
    "|**tot_num_both_benchmark**|*float64*|SAT|The total number of students who met the benchmark of both Evidence-Based Reading & Writing (ERW) and Math|\n",
    "|**pct_both_benchmark**|*float64*|SAT|The percent of students who met the benchmark of both Evidence-Based Reading & Writing (ERW) and Math|"
   ]
  },
  {
   "cell_type": "markdown",
   "metadata": {},
   "source": [
    "## Exploratory Data Analysis\n",
    "\n",
    "Complete the following steps to explore your data. You are welcome to do more EDA than the steps outlined here as you feel necessary:\n",
    "1. Summary Statistics.\n",
    "2. Use a **dictionary comprehension** to apply the standard deviation function you create in part 1 to each numeric column in the dataframe.  **No loops**.\n",
    "    - Assign the output to variable `sd` as a dictionary where: \n",
    "        - Each column name is now a key \n",
    "        - That standard deviation of the column is the value \n",
    "        - *Example Output :* `{'ACT_Math': 120, 'ACT_Reading': 120, ...}`\n",
    "3. Investigate trends in the data.\n",
    "    - Using sorting and/or masking (along with the `.head()` method to avoid printing our entire dataframe), consider questions relevant to your problem statement. Some examples are provided below (but feel free to change these questions for your specific problem):\n",
    "        - Which states have the highest and lowest participation rates for the 2017, 2019, or 2019 SAT and ACT?\n",
    "        - Which states have the highest and lowest mean total/composite scores for the 2017, 2019, or 2019 SAT and ACT?\n",
    "        - Do any states with 100% participation on a given test have a rate change year-to-year?\n",
    "        - Do any states show have >50% participation on *both* tests each year?\n",
    "        - Which colleges have the highest median SAT and ACT scores for admittance?\n",
    "        - Which California school districts have the highest and lowest mean test scores?\n",
    "    - **You should comment on your findings at each step in a markdown cell below your code block**. Make sure you include at least one example of sorting your dataframe by a column, and one example of using boolean filtering (i.e., masking) to select a subset of the dataframe."
   ]
  },
  {
   "cell_type": "markdown",
   "metadata": {},
   "source": [
    "### Summary Statistics\n",
    "\n",
    "Mean and Median of ACT and SAT test results in California grouped by Year"
   ]
  },
  {
   "cell_type": "code",
   "execution_count": 72,
   "metadata": {
    "ExecuteTime": {
     "end_time": "2021-01-03T04:56:31.684920Z",
     "start_time": "2021-01-03T04:56:31.680021Z"
    }
   },
   "outputs": [],
   "source": [
    "act_county = act.loc[(act.rtype == 'C')]\n",
    "sat_county = sat.loc[(sat.rtype == 'C')]"
   ]
  },
  {
   "cell_type": "code",
   "execution_count": 266,
   "metadata": {
    "ExecuteTime": {
     "end_time": "2021-01-03T06:41:02.783757Z",
     "start_time": "2021-01-03T06:41:00.613807Z"
    }
   },
   "outputs": [],
   "source": [
    "county_list = [act_county, sat_county, income]\n",
    "county = pd.concat(county_list)\n",
    "county.to_csv('./data/county.csv', index=False)"
   ]
  },
  {
   "cell_type": "code",
   "execution_count": 272,
   "metadata": {
    "ExecuteTime": {
     "end_time": "2021-01-03T06:43:10.793333Z",
     "start_time": "2021-01-03T06:43:10.789719Z"
    }
   },
   "outputs": [
    {
     "data": {
      "text/plain": [
       "347"
      ]
     },
     "execution_count": 272,
     "metadata": {},
     "output_type": "execute_result"
    }
   ],
   "source": [
    "county['income'].isnull().sum()\n",
    "#county['income'] = county['income'].astype(int)"
   ]
  },
  {
   "cell_type": "code",
   "execution_count": 210,
   "metadata": {
    "ExecuteTime": {
     "end_time": "2021-01-03T06:05:39.989224Z",
     "start_time": "2021-01-03T06:05:39.978603Z"
    }
   },
   "outputs": [
    {
     "data": {
      "text/html": [
       "<div>\n",
       "<style scoped>\n",
       "    .dataframe tbody tr th:only-of-type {\n",
       "        vertical-align: middle;\n",
       "    }\n",
       "\n",
       "    .dataframe tbody tr th {\n",
       "        vertical-align: top;\n",
       "    }\n",
       "\n",
       "    .dataframe thead th {\n",
       "        text-align: right;\n",
       "    }\n",
       "</style>\n",
       "<table border=\"1\" class=\"dataframe\">\n",
       "  <thead>\n",
       "    <tr style=\"text-align: right;\">\n",
       "      <th></th>\n",
       "      <th>avg_scr_eng</th>\n",
       "      <th>avg_scr_read</th>\n",
       "      <th>avg_scr_math</th>\n",
       "      <th>avg_scr_sci</th>\n",
       "      <th>num_ge</th>\n",
       "      <th>pct_ge</th>\n",
       "    </tr>\n",
       "    <tr>\n",
       "      <th>year</th>\n",
       "      <th></th>\n",
       "      <th></th>\n",
       "      <th></th>\n",
       "      <th></th>\n",
       "      <th></th>\n",
       "      <th></th>\n",
       "    </tr>\n",
       "  </thead>\n",
       "  <tbody>\n",
       "    <tr>\n",
       "      <th>2016-17</th>\n",
       "      <td>21.614035</td>\n",
       "      <td>20.771930</td>\n",
       "      <td>21.017544</td>\n",
       "      <td>20.807018</td>\n",
       "      <td>1113.491228</td>\n",
       "      <td>57.033509</td>\n",
       "    </tr>\n",
       "    <tr>\n",
       "      <th>2017-18</th>\n",
       "      <td>21.140351</td>\n",
       "      <td>20.157895</td>\n",
       "      <td>20.298246</td>\n",
       "      <td>20.263158</td>\n",
       "      <td>993.614035</td>\n",
       "      <td>54.101579</td>\n",
       "    </tr>\n",
       "    <tr>\n",
       "      <th>2018-19</th>\n",
       "      <td>20.403509</td>\n",
       "      <td>21.456140</td>\n",
       "      <td>20.666667</td>\n",
       "      <td>20.578947</td>\n",
       "      <td>797.456140</td>\n",
       "      <td>53.770175</td>\n",
       "    </tr>\n",
       "  </tbody>\n",
       "</table>\n",
       "</div>"
      ],
      "text/plain": [
       "         avg_scr_eng  avg_scr_read  avg_scr_math  avg_scr_sci       num_ge  \\\n",
       "year                                                                         \n",
       "2016-17    21.614035     20.771930     21.017544    20.807018  1113.491228   \n",
       "2017-18    21.140351     20.157895     20.298246    20.263158   993.614035   \n",
       "2018-19    20.403509     21.456140     20.666667    20.578947   797.456140   \n",
       "\n",
       "            pct_ge  \n",
       "year                \n",
       "2016-17  57.033509  \n",
       "2017-18  54.101579  \n",
       "2018-19  53.770175  "
      ]
     },
     "execution_count": 210,
     "metadata": {},
     "output_type": "execute_result"
    }
   ],
   "source": [
    "#ACT Mean\n",
    "county[['year', 'avg_scr_eng','avg_scr_read', 'avg_scr_math', 'avg_scr_sci', 'num_ge', 'pct_ge']].groupby('year').mean()"
   ]
  },
  {
   "cell_type": "code",
   "execution_count": 211,
   "metadata": {
    "ExecuteTime": {
     "end_time": "2021-01-03T06:05:54.124152Z",
     "start_time": "2021-01-03T06:05:54.112743Z"
    }
   },
   "outputs": [
    {
     "data": {
      "text/html": [
       "<div>\n",
       "<style scoped>\n",
       "    .dataframe tbody tr th:only-of-type {\n",
       "        vertical-align: middle;\n",
       "    }\n",
       "\n",
       "    .dataframe tbody tr th {\n",
       "        vertical-align: top;\n",
       "    }\n",
       "\n",
       "    .dataframe thead th {\n",
       "        text-align: right;\n",
       "    }\n",
       "</style>\n",
       "<table border=\"1\" class=\"dataframe\">\n",
       "  <thead>\n",
       "    <tr style=\"text-align: right;\">\n",
       "      <th></th>\n",
       "      <th>avg_scr_eng</th>\n",
       "      <th>avg_scr_read</th>\n",
       "      <th>avg_scr_math</th>\n",
       "      <th>avg_scr_sci</th>\n",
       "      <th>num_ge</th>\n",
       "      <th>pct_ge</th>\n",
       "    </tr>\n",
       "    <tr>\n",
       "      <th>year</th>\n",
       "      <th></th>\n",
       "      <th></th>\n",
       "      <th></th>\n",
       "      <th></th>\n",
       "      <th></th>\n",
       "      <th></th>\n",
       "    </tr>\n",
       "  </thead>\n",
       "  <tbody>\n",
       "    <tr>\n",
       "      <th>2016-17</th>\n",
       "      <td>22.0</td>\n",
       "      <td>22.0</td>\n",
       "      <td>22.0</td>\n",
       "      <td>22.0</td>\n",
       "      <td>228.0</td>\n",
       "      <td>59.58</td>\n",
       "    </tr>\n",
       "    <tr>\n",
       "      <th>2017-18</th>\n",
       "      <td>23.0</td>\n",
       "      <td>21.0</td>\n",
       "      <td>22.0</td>\n",
       "      <td>22.0</td>\n",
       "      <td>216.0</td>\n",
       "      <td>56.67</td>\n",
       "    </tr>\n",
       "    <tr>\n",
       "      <th>2018-19</th>\n",
       "      <td>22.0</td>\n",
       "      <td>23.0</td>\n",
       "      <td>22.0</td>\n",
       "      <td>22.0</td>\n",
       "      <td>180.0</td>\n",
       "      <td>55.91</td>\n",
       "    </tr>\n",
       "  </tbody>\n",
       "</table>\n",
       "</div>"
      ],
      "text/plain": [
       "         avg_scr_eng  avg_scr_read  avg_scr_math  avg_scr_sci  num_ge  pct_ge\n",
       "year                                                                         \n",
       "2016-17         22.0          22.0          22.0         22.0   228.0   59.58\n",
       "2017-18         23.0          21.0          22.0         22.0   216.0   56.67\n",
       "2018-19         22.0          23.0          22.0         22.0   180.0   55.91"
      ]
     },
     "execution_count": 211,
     "metadata": {},
     "output_type": "execute_result"
    }
   ],
   "source": [
    "#ACT Median\n",
    "county[['year', 'avg_scr_eng','avg_scr_read', 'avg_scr_math', 'avg_scr_sci', 'num_ge', 'pct_ge']].groupby('year').median()"
   ]
  },
  {
   "cell_type": "code",
   "execution_count": 212,
   "metadata": {
    "ExecuteTime": {
     "end_time": "2021-01-03T06:06:09.643389Z",
     "start_time": "2021-01-03T06:06:09.634444Z"
    }
   },
   "outputs": [
    {
     "data": {
      "text/html": [
       "<div>\n",
       "<style scoped>\n",
       "    .dataframe tbody tr th:only-of-type {\n",
       "        vertical-align: middle;\n",
       "    }\n",
       "\n",
       "    .dataframe tbody tr th {\n",
       "        vertical-align: top;\n",
       "    }\n",
       "\n",
       "    .dataframe thead th {\n",
       "        text-align: right;\n",
       "    }\n",
       "</style>\n",
       "<table border=\"1\" class=\"dataframe\">\n",
       "  <thead>\n",
       "    <tr style=\"text-align: right;\">\n",
       "      <th></th>\n",
       "      <th>pct_erw_benchmark</th>\n",
       "      <th>pct_math_benchmark</th>\n",
       "      <th>pct_both_benchmark</th>\n",
       "    </tr>\n",
       "    <tr>\n",
       "      <th>year</th>\n",
       "      <th></th>\n",
       "      <th></th>\n",
       "      <th></th>\n",
       "    </tr>\n",
       "  </thead>\n",
       "  <tbody>\n",
       "    <tr>\n",
       "      <th>2016-17</th>\n",
       "      <td>77.716316</td>\n",
       "      <td>55.032281</td>\n",
       "      <td>52.857018</td>\n",
       "    </tr>\n",
       "    <tr>\n",
       "      <th>2017-18</th>\n",
       "      <td>74.742105</td>\n",
       "      <td>53.871228</td>\n",
       "      <td>51.326140</td>\n",
       "    </tr>\n",
       "    <tr>\n",
       "      <th>2018-19</th>\n",
       "      <td>71.791930</td>\n",
       "      <td>50.363333</td>\n",
       "      <td>47.978421</td>\n",
       "    </tr>\n",
       "  </tbody>\n",
       "</table>\n",
       "</div>"
      ],
      "text/plain": [
       "         pct_erw_benchmark  pct_math_benchmark  pct_both_benchmark\n",
       "year                                                              \n",
       "2016-17          77.716316           55.032281           52.857018\n",
       "2017-18          74.742105           53.871228           51.326140\n",
       "2018-19          71.791930           50.363333           47.978421"
      ]
     },
     "execution_count": 212,
     "metadata": {},
     "output_type": "execute_result"
    }
   ],
   "source": [
    "#SAT Mean\n",
    "county[['year','pct_erw_benchmark','pct_math_benchmark', 'pct_both_benchmark']].groupby('year').mean()"
   ]
  },
  {
   "cell_type": "code",
   "execution_count": 213,
   "metadata": {
    "ExecuteTime": {
     "end_time": "2021-01-03T06:06:13.764961Z",
     "start_time": "2021-01-03T06:06:13.755754Z"
    }
   },
   "outputs": [
    {
     "data": {
      "text/html": [
       "<div>\n",
       "<style scoped>\n",
       "    .dataframe tbody tr th:only-of-type {\n",
       "        vertical-align: middle;\n",
       "    }\n",
       "\n",
       "    .dataframe tbody tr th {\n",
       "        vertical-align: top;\n",
       "    }\n",
       "\n",
       "    .dataframe thead th {\n",
       "        text-align: right;\n",
       "    }\n",
       "</style>\n",
       "<table border=\"1\" class=\"dataframe\">\n",
       "  <thead>\n",
       "    <tr style=\"text-align: right;\">\n",
       "      <th></th>\n",
       "      <th>pct_erw_benchmark</th>\n",
       "      <th>pct_math_benchmark</th>\n",
       "      <th>pct_both_benchmark</th>\n",
       "    </tr>\n",
       "    <tr>\n",
       "      <th>year</th>\n",
       "      <th></th>\n",
       "      <th></th>\n",
       "      <th></th>\n",
       "    </tr>\n",
       "  </thead>\n",
       "  <tbody>\n",
       "    <tr>\n",
       "      <th>2016-17</th>\n",
       "      <td>79.69</td>\n",
       "      <td>56.87</td>\n",
       "      <td>53.91</td>\n",
       "    </tr>\n",
       "    <tr>\n",
       "      <th>2017-18</th>\n",
       "      <td>76.70</td>\n",
       "      <td>57.56</td>\n",
       "      <td>53.66</td>\n",
       "    </tr>\n",
       "    <tr>\n",
       "      <th>2018-19</th>\n",
       "      <td>75.22</td>\n",
       "      <td>52.65</td>\n",
       "      <td>50.46</td>\n",
       "    </tr>\n",
       "  </tbody>\n",
       "</table>\n",
       "</div>"
      ],
      "text/plain": [
       "         pct_erw_benchmark  pct_math_benchmark  pct_both_benchmark\n",
       "year                                                              \n",
       "2016-17              79.69               56.87               53.91\n",
       "2017-18              76.70               57.56               53.66\n",
       "2018-19              75.22               52.65               50.46"
      ]
     },
     "execution_count": 213,
     "metadata": {},
     "output_type": "execute_result"
    }
   ],
   "source": [
    "#SAT Median\n",
    "county[['year', 'pct_erw_benchmark','pct_math_benchmark', 'pct_both_benchmark']].groupby('year').median()"
   ]
  },
  {
   "cell_type": "code",
   "execution_count": 215,
   "metadata": {
    "ExecuteTime": {
     "end_time": "2021-01-03T06:06:37.773858Z",
     "start_time": "2021-01-03T06:06:37.604167Z"
    }
   },
   "outputs": [
    {
     "data": {
      "text/plain": [
       "{'enroll': nan,\n",
       " 'num_tst_takr': nan,\n",
       " 'avg_scr_read': nan,\n",
       " 'avg_scr_eng': nan,\n",
       " 'avg_scr_math': nan,\n",
       " 'avg_scr_sci': nan,\n",
       " 'num_ge': nan,\n",
       " 'pct_ge': nan,\n",
       " 'test_perc': nan,\n",
       " 'num_erw_benchmark': nan,\n",
       " 'pct_erw_benchmark': nan,\n",
       " 'num_math_benchmark': nan,\n",
       " 'pct_math_benchmark': nan,\n",
       " 'tot_num_both_benchmark': nan,\n",
       " 'pct_both_benchmark': nan,\n",
       " 'income': nan}"
      ]
     },
     "execution_count": 215,
     "metadata": {},
     "output_type": "execute_result"
    }
   ],
   "source": [
    "#Standard Deviation Dictionary\n",
    "sd = {col:stdev(county[col]) for col in county.select_dtypes(exclude= ['object'])}\n",
    "sd"
   ]
  },
  {
   "cell_type": "markdown",
   "metadata": {
    "ExecuteTime": {
     "end_time": "2021-01-03T01:35:10.359127Z",
     "start_time": "2021-01-03T01:34:16.008Z"
    }
   },
   "source": [
    "Which Counties have the highest and lowest participation rates for SAT and ACT?"
   ]
  },
  {
   "cell_type": "code",
   "execution_count": 133,
   "metadata": {
    "ExecuteTime": {
     "end_time": "2021-01-03T05:24:19.848042Z",
     "start_time": "2021-01-03T05:24:19.843015Z"
    }
   },
   "outputs": [
    {
     "name": "stderr",
     "output_type": "stream",
     "text": [
      "<ipython-input-133-f11b32baba68>:1: SettingWithCopyWarning: \n",
      "A value is trying to be set on a copy of a slice from a DataFrame.\n",
      "Try using .loc[row_indexer,col_indexer] = value instead\n",
      "\n",
      "See the caveats in the documentation: https://pandas.pydata.org/pandas-docs/stable/user_guide/indexing.html#returning-a-view-versus-a-copy\n",
      "  act_county['test_perc'] = act_county.num_tst_takr*100/act_county.enroll\n",
      "<ipython-input-133-f11b32baba68>:2: SettingWithCopyWarning: \n",
      "A value is trying to be set on a copy of a slice from a DataFrame.\n",
      "Try using .loc[row_indexer,col_indexer] = value instead\n",
      "\n",
      "See the caveats in the documentation: https://pandas.pydata.org/pandas-docs/stable/user_guide/indexing.html#returning-a-view-versus-a-copy\n",
      "  sat_county['test_perc'] = sat_county.num_tst_takr*100/sat_county.enroll\n"
     ]
    }
   ],
   "source": [
    "act_county['test_perc'] = act_county.num_tst_takr*100/act_county.enroll\n",
    "sat_county['test_perc'] = sat_county.num_tst_takr*100/sat_county.enroll"
   ]
  },
  {
   "cell_type": "code",
   "execution_count": 217,
   "metadata": {
    "ExecuteTime": {
     "end_time": "2021-01-03T06:07:45.209516Z",
     "start_time": "2021-01-03T06:07:45.192349Z"
    }
   },
   "outputs": [
    {
     "data": {
      "text/html": [
       "<div>\n",
       "<style scoped>\n",
       "    .dataframe tbody tr th:only-of-type {\n",
       "        vertical-align: middle;\n",
       "    }\n",
       "\n",
       "    .dataframe tbody tr th {\n",
       "        vertical-align: top;\n",
       "    }\n",
       "\n",
       "    .dataframe thead th {\n",
       "        text-align: right;\n",
       "    }\n",
       "</style>\n",
       "<table border=\"1\" class=\"dataframe\">\n",
       "  <thead>\n",
       "    <tr style=\"text-align: right;\">\n",
       "      <th></th>\n",
       "      <th>year</th>\n",
       "      <th>test_perc</th>\n",
       "    </tr>\n",
       "    <tr>\n",
       "      <th>cname</th>\n",
       "      <th></th>\n",
       "      <th></th>\n",
       "    </tr>\n",
       "  </thead>\n",
       "  <tbody>\n",
       "    <tr>\n",
       "      <th>Modoc</th>\n",
       "      <td>2018-19</td>\n",
       "      <td>63.218391</td>\n",
       "    </tr>\n",
       "    <tr>\n",
       "      <th>Tehama</th>\n",
       "      <td>2018-19</td>\n",
       "      <td>59.497207</td>\n",
       "    </tr>\n",
       "    <tr>\n",
       "      <th>Marin</th>\n",
       "      <td>2018-19</td>\n",
       "      <td>44.300518</td>\n",
       "    </tr>\n",
       "    <tr>\n",
       "      <th>Sierra</th>\n",
       "      <td>2018-19</td>\n",
       "      <td>36.000000</td>\n",
       "    </tr>\n",
       "    <tr>\n",
       "      <th>San Francisco</th>\n",
       "      <td>2018-19</td>\n",
       "      <td>32.227583</td>\n",
       "    </tr>\n",
       "  </tbody>\n",
       "</table>\n",
       "</div>"
      ],
      "text/plain": [
       "                  year  test_perc\n",
       "cname                            \n",
       "Modoc          2018-19  63.218391\n",
       "Tehama         2018-19  59.497207\n",
       "Marin          2018-19  44.300518\n",
       "Sierra         2018-19  36.000000\n",
       "San Francisco  2018-19  32.227583"
      ]
     },
     "execution_count": 217,
     "metadata": {},
     "output_type": "execute_result"
    }
   ],
   "source": [
    "act_county[['year', 'cname','test_perc']].groupby('cname').max().sort_values('test_perc', ascending = False).head(5)"
   ]
  },
  {
   "cell_type": "code",
   "execution_count": 178,
   "metadata": {
    "ExecuteTime": {
     "end_time": "2021-01-03T05:46:11.505162Z",
     "start_time": "2021-01-03T05:46:11.487874Z"
    }
   },
   "outputs": [
    {
     "data": {
      "text/html": [
       "<div>\n",
       "<style scoped>\n",
       "    .dataframe tbody tr th:only-of-type {\n",
       "        vertical-align: middle;\n",
       "    }\n",
       "\n",
       "    .dataframe tbody tr th {\n",
       "        vertical-align: top;\n",
       "    }\n",
       "\n",
       "    .dataframe thead th {\n",
       "        text-align: right;\n",
       "    }\n",
       "</style>\n",
       "<table border=\"1\" class=\"dataframe\">\n",
       "  <thead>\n",
       "    <tr style=\"text-align: right;\">\n",
       "      <th></th>\n",
       "      <th>year</th>\n",
       "      <th>test_perc</th>\n",
       "    </tr>\n",
       "    <tr>\n",
       "      <th>cname</th>\n",
       "      <th></th>\n",
       "      <th></th>\n",
       "    </tr>\n",
       "  </thead>\n",
       "  <tbody>\n",
       "    <tr>\n",
       "      <th>Nevada</th>\n",
       "      <td>2016-17</td>\n",
       "      <td>4.066346</td>\n",
       "    </tr>\n",
       "    <tr>\n",
       "      <th>Mono</th>\n",
       "      <td>2016-17</td>\n",
       "      <td>3.198294</td>\n",
       "    </tr>\n",
       "    <tr>\n",
       "      <th>Inyo</th>\n",
       "      <td>2016-17</td>\n",
       "      <td>2.867384</td>\n",
       "    </tr>\n",
       "    <tr>\n",
       "      <th>Del Norte</th>\n",
       "      <td>2016-17</td>\n",
       "      <td>1.030928</td>\n",
       "    </tr>\n",
       "    <tr>\n",
       "      <th>Alpine</th>\n",
       "      <td>2017-18</td>\n",
       "      <td>NaN</td>\n",
       "    </tr>\n",
       "  </tbody>\n",
       "</table>\n",
       "</div>"
      ],
      "text/plain": [
       "              year  test_perc\n",
       "cname                        \n",
       "Nevada     2016-17   4.066346\n",
       "Mono       2016-17   3.198294\n",
       "Inyo       2016-17   2.867384\n",
       "Del Norte  2016-17   1.030928\n",
       "Alpine     2017-18        NaN"
      ]
     },
     "execution_count": 178,
     "metadata": {},
     "output_type": "execute_result"
    }
   ],
   "source": [
    "act_county[['year', 'cname','test_perc']].groupby('cname').min().sort_values('test_perc', ascending = False).tail(5)"
   ]
  },
  {
   "cell_type": "code",
   "execution_count": 183,
   "metadata": {
    "ExecuteTime": {
     "end_time": "2021-01-03T05:47:36.740743Z",
     "start_time": "2021-01-03T05:47:36.723407Z"
    }
   },
   "outputs": [
    {
     "data": {
      "text/html": [
       "<div>\n",
       "<style scoped>\n",
       "    .dataframe tbody tr th:only-of-type {\n",
       "        vertical-align: middle;\n",
       "    }\n",
       "\n",
       "    .dataframe tbody tr th {\n",
       "        vertical-align: top;\n",
       "    }\n",
       "\n",
       "    .dataframe thead th {\n",
       "        text-align: right;\n",
       "    }\n",
       "</style>\n",
       "<table border=\"1\" class=\"dataframe\">\n",
       "  <thead>\n",
       "    <tr style=\"text-align: right;\">\n",
       "      <th></th>\n",
       "      <th>year</th>\n",
       "      <th>test_perc</th>\n",
       "    </tr>\n",
       "    <tr>\n",
       "      <th>cname</th>\n",
       "      <th></th>\n",
       "      <th></th>\n",
       "    </tr>\n",
       "  </thead>\n",
       "  <tbody>\n",
       "    <tr>\n",
       "      <th>San Francisco</th>\n",
       "      <td>2018-19</td>\n",
       "      <td>64.093669</td>\n",
       "    </tr>\n",
       "    <tr>\n",
       "      <th>Santa Clara</th>\n",
       "      <td>2018-19</td>\n",
       "      <td>57.948065</td>\n",
       "    </tr>\n",
       "    <tr>\n",
       "      <th>Alameda</th>\n",
       "      <td>2018-19</td>\n",
       "      <td>57.553216</td>\n",
       "    </tr>\n",
       "    <tr>\n",
       "      <th>Los Angeles</th>\n",
       "      <td>2018-19</td>\n",
       "      <td>56.930375</td>\n",
       "    </tr>\n",
       "    <tr>\n",
       "      <th>Riverside</th>\n",
       "      <td>2018-19</td>\n",
       "      <td>53.968161</td>\n",
       "    </tr>\n",
       "  </tbody>\n",
       "</table>\n",
       "</div>"
      ],
      "text/plain": [
       "                  year  test_perc\n",
       "cname                            \n",
       "San Francisco  2018-19  64.093669\n",
       "Santa Clara    2018-19  57.948065\n",
       "Alameda        2018-19  57.553216\n",
       "Los Angeles    2018-19  56.930375\n",
       "Riverside      2018-19  53.968161"
      ]
     },
     "execution_count": 183,
     "metadata": {},
     "output_type": "execute_result"
    }
   ],
   "source": [
    "sat_county[['year', 'cname','test_perc']].groupby('cname').max().sort_values('test_perc', ascending=False).head(5)"
   ]
  },
  {
   "cell_type": "code",
   "execution_count": 184,
   "metadata": {
    "ExecuteTime": {
     "end_time": "2021-01-03T05:48:05.719890Z",
     "start_time": "2021-01-03T05:48:05.702598Z"
    }
   },
   "outputs": [
    {
     "data": {
      "text/html": [
       "<div>\n",
       "<style scoped>\n",
       "    .dataframe tbody tr th:only-of-type {\n",
       "        vertical-align: middle;\n",
       "    }\n",
       "\n",
       "    .dataframe tbody tr th {\n",
       "        vertical-align: top;\n",
       "    }\n",
       "\n",
       "    .dataframe thead th {\n",
       "        text-align: right;\n",
       "    }\n",
       "</style>\n",
       "<table border=\"1\" class=\"dataframe\">\n",
       "  <thead>\n",
       "    <tr style=\"text-align: right;\">\n",
       "      <th></th>\n",
       "      <th>year</th>\n",
       "      <th>test_perc</th>\n",
       "    </tr>\n",
       "    <tr>\n",
       "      <th>cname</th>\n",
       "      <th></th>\n",
       "      <th></th>\n",
       "    </tr>\n",
       "  </thead>\n",
       "  <tbody>\n",
       "    <tr>\n",
       "      <th>Nevada</th>\n",
       "      <td>2016-17</td>\n",
       "      <td>9.951846</td>\n",
       "    </tr>\n",
       "    <tr>\n",
       "      <th>Inyo</th>\n",
       "      <td>2016-17</td>\n",
       "      <td>9.408602</td>\n",
       "    </tr>\n",
       "    <tr>\n",
       "      <th>Mono</th>\n",
       "      <td>2016-17</td>\n",
       "      <td>8.809524</td>\n",
       "    </tr>\n",
       "    <tr>\n",
       "      <th>Trinity</th>\n",
       "      <td>2016-17</td>\n",
       "      <td>8.441558</td>\n",
       "    </tr>\n",
       "    <tr>\n",
       "      <th>Alpine</th>\n",
       "      <td>2016-17</td>\n",
       "      <td>0.000000</td>\n",
       "    </tr>\n",
       "  </tbody>\n",
       "</table>\n",
       "</div>"
      ],
      "text/plain": [
       "            year  test_perc\n",
       "cname                      \n",
       "Nevada   2016-17   9.951846\n",
       "Inyo     2016-17   9.408602\n",
       "Mono     2016-17   8.809524\n",
       "Trinity  2016-17   8.441558\n",
       "Alpine   2016-17   0.000000"
      ]
     },
     "execution_count": 184,
     "metadata": {},
     "output_type": "execute_result"
    }
   ],
   "source": [
    "sat_county[['year', 'cname','test_perc']].groupby('cname').min().sort_values('test_perc', ascending=False).tail(5)"
   ]
  },
  {
   "cell_type": "markdown",
   "metadata": {},
   "source": [
    "Which California **counties** have the highest and lowest Math scores?"
   ]
  },
  {
   "cell_type": "code",
   "execution_count": 197,
   "metadata": {
    "ExecuteTime": {
     "end_time": "2021-01-03T05:55:28.791611Z",
     "start_time": "2021-01-03T05:55:28.774142Z"
    }
   },
   "outputs": [
    {
     "data": {
      "text/html": [
       "<div>\n",
       "<style scoped>\n",
       "    .dataframe tbody tr th:only-of-type {\n",
       "        vertical-align: middle;\n",
       "    }\n",
       "\n",
       "    .dataframe tbody tr th {\n",
       "        vertical-align: top;\n",
       "    }\n",
       "\n",
       "    .dataframe thead th {\n",
       "        text-align: right;\n",
       "    }\n",
       "</style>\n",
       "<table border=\"1\" class=\"dataframe\">\n",
       "  <thead>\n",
       "    <tr style=\"text-align: right;\">\n",
       "      <th></th>\n",
       "      <th>year</th>\n",
       "      <th>avg_scr_math</th>\n",
       "    </tr>\n",
       "    <tr>\n",
       "      <th>cname</th>\n",
       "      <th></th>\n",
       "      <th></th>\n",
       "    </tr>\n",
       "  </thead>\n",
       "  <tbody>\n",
       "    <tr>\n",
       "      <th>Santa Clara</th>\n",
       "      <td>2018-19</td>\n",
       "      <td>26.0</td>\n",
       "    </tr>\n",
       "    <tr>\n",
       "      <th>Alameda</th>\n",
       "      <td>2018-19</td>\n",
       "      <td>25.0</td>\n",
       "    </tr>\n",
       "    <tr>\n",
       "      <th>Lassen</th>\n",
       "      <td>2018-19</td>\n",
       "      <td>25.0</td>\n",
       "    </tr>\n",
       "    <tr>\n",
       "      <th>Yolo</th>\n",
       "      <td>2018-19</td>\n",
       "      <td>25.0</td>\n",
       "    </tr>\n",
       "    <tr>\n",
       "      <th>Contra Costa</th>\n",
       "      <td>2018-19</td>\n",
       "      <td>25.0</td>\n",
       "    </tr>\n",
       "  </tbody>\n",
       "</table>\n",
       "</div>"
      ],
      "text/plain": [
       "                 year  avg_scr_math\n",
       "cname                              \n",
       "Santa Clara   2018-19          26.0\n",
       "Alameda       2018-19          25.0\n",
       "Lassen        2018-19          25.0\n",
       "Yolo          2018-19          25.0\n",
       "Contra Costa  2018-19          25.0"
      ]
     },
     "execution_count": 197,
     "metadata": {},
     "output_type": "execute_result"
    }
   ],
   "source": [
    "act_county[['year', 'cname','avg_scr_math']].groupby('cname').max().sort_values('avg_scr_math', ascending=False).head(3)"
   ]
  },
  {
   "cell_type": "code",
   "execution_count": 193,
   "metadata": {
    "ExecuteTime": {
     "end_time": "2021-01-03T05:52:22.172633Z",
     "start_time": "2021-01-03T05:52:22.155214Z"
    }
   },
   "outputs": [
    {
     "data": {
      "text/html": [
       "<div>\n",
       "<style scoped>\n",
       "    .dataframe tbody tr th:only-of-type {\n",
       "        vertical-align: middle;\n",
       "    }\n",
       "\n",
       "    .dataframe tbody tr th {\n",
       "        vertical-align: top;\n",
       "    }\n",
       "\n",
       "    .dataframe thead th {\n",
       "        text-align: right;\n",
       "    }\n",
       "</style>\n",
       "<table border=\"1\" class=\"dataframe\">\n",
       "  <thead>\n",
       "    <tr style=\"text-align: right;\">\n",
       "      <th></th>\n",
       "      <th>year</th>\n",
       "      <th>avg_scr_math</th>\n",
       "    </tr>\n",
       "    <tr>\n",
       "      <th>cname</th>\n",
       "      <th></th>\n",
       "      <th></th>\n",
       "    </tr>\n",
       "  </thead>\n",
       "  <tbody>\n",
       "    <tr>\n",
       "      <th>Madera</th>\n",
       "      <td>2018-19</td>\n",
       "      <td>19.0</td>\n",
       "    </tr>\n",
       "    <tr>\n",
       "      <th>Kings</th>\n",
       "      <td>2018-19</td>\n",
       "      <td>19.0</td>\n",
       "    </tr>\n",
       "    <tr>\n",
       "      <th>San Bernardino</th>\n",
       "      <td>2018-19</td>\n",
       "      <td>19.0</td>\n",
       "    </tr>\n",
       "    <tr>\n",
       "      <th>Sierra</th>\n",
       "      <td>2018-19</td>\n",
       "      <td>0.0</td>\n",
       "    </tr>\n",
       "    <tr>\n",
       "      <th>Del Norte</th>\n",
       "      <td>2018-19</td>\n",
       "      <td>0.0</td>\n",
       "    </tr>\n",
       "    <tr>\n",
       "      <th>Alpine</th>\n",
       "      <td>2018-19</td>\n",
       "      <td>NaN</td>\n",
       "    </tr>\n",
       "  </tbody>\n",
       "</table>\n",
       "</div>"
      ],
      "text/plain": [
       "                   year  avg_scr_math\n",
       "cname                                \n",
       "Madera          2018-19          19.0\n",
       "Kings           2018-19          19.0\n",
       "San Bernardino  2018-19          19.0\n",
       "Sierra          2018-19           0.0\n",
       "Del Norte       2018-19           0.0\n",
       "Alpine          2018-19           NaN"
      ]
     },
     "execution_count": 193,
     "metadata": {},
     "output_type": "execute_result"
    }
   ],
   "source": [
    "act_county[['year', 'cname','avg_scr_math']].groupby('cname').max().sort_values('avg_scr_math', ascending=False).tail(6)"
   ]
  },
  {
   "cell_type": "code",
   "execution_count": 198,
   "metadata": {
    "ExecuteTime": {
     "end_time": "2021-01-03T05:56:27.399180Z",
     "start_time": "2021-01-03T05:56:27.382184Z"
    }
   },
   "outputs": [
    {
     "data": {
      "text/html": [
       "<div>\n",
       "<style scoped>\n",
       "    .dataframe tbody tr th:only-of-type {\n",
       "        vertical-align: middle;\n",
       "    }\n",
       "\n",
       "    .dataframe tbody tr th {\n",
       "        vertical-align: top;\n",
       "    }\n",
       "\n",
       "    .dataframe thead th {\n",
       "        text-align: right;\n",
       "    }\n",
       "</style>\n",
       "<table border=\"1\" class=\"dataframe\">\n",
       "  <thead>\n",
       "    <tr style=\"text-align: right;\">\n",
       "      <th></th>\n",
       "      <th>year</th>\n",
       "      <th>pct_math_benchmark</th>\n",
       "    </tr>\n",
       "    <tr>\n",
       "      <th>cname</th>\n",
       "      <th></th>\n",
       "      <th></th>\n",
       "    </tr>\n",
       "  </thead>\n",
       "  <tbody>\n",
       "    <tr>\n",
       "      <th>El Dorado</th>\n",
       "      <td>2018-19</td>\n",
       "      <td>81.78</td>\n",
       "    </tr>\n",
       "    <tr>\n",
       "      <th>Mariposa</th>\n",
       "      <td>2018-19</td>\n",
       "      <td>75.00</td>\n",
       "    </tr>\n",
       "    <tr>\n",
       "      <th>Shasta</th>\n",
       "      <td>2018-19</td>\n",
       "      <td>74.17</td>\n",
       "    </tr>\n",
       "  </tbody>\n",
       "</table>\n",
       "</div>"
      ],
      "text/plain": [
       "              year  pct_math_benchmark\n",
       "cname                                 \n",
       "El Dorado  2018-19               81.78\n",
       "Mariposa   2018-19               75.00\n",
       "Shasta     2018-19               74.17"
      ]
     },
     "execution_count": 198,
     "metadata": {},
     "output_type": "execute_result"
    }
   ],
   "source": [
    "sat_county[['year', 'cname','pct_math_benchmark']].groupby('cname').max().sort_values('pct_math_benchmark', ascending=False).head(3)"
   ]
  },
  {
   "cell_type": "code",
   "execution_count": 199,
   "metadata": {
    "ExecuteTime": {
     "end_time": "2021-01-03T05:56:42.689951Z",
     "start_time": "2021-01-03T05:56:42.672601Z"
    },
    "scrolled": true
   },
   "outputs": [
    {
     "data": {
      "text/html": [
       "<div>\n",
       "<style scoped>\n",
       "    .dataframe tbody tr th:only-of-type {\n",
       "        vertical-align: middle;\n",
       "    }\n",
       "\n",
       "    .dataframe tbody tr th {\n",
       "        vertical-align: top;\n",
       "    }\n",
       "\n",
       "    .dataframe thead th {\n",
       "        text-align: right;\n",
       "    }\n",
       "</style>\n",
       "<table border=\"1\" class=\"dataframe\">\n",
       "  <thead>\n",
       "    <tr style=\"text-align: right;\">\n",
       "      <th></th>\n",
       "      <th>year</th>\n",
       "      <th>pct_math_benchmark</th>\n",
       "    </tr>\n",
       "    <tr>\n",
       "      <th>cname</th>\n",
       "      <th></th>\n",
       "      <th></th>\n",
       "    </tr>\n",
       "  </thead>\n",
       "  <tbody>\n",
       "    <tr>\n",
       "      <th>Merced</th>\n",
       "      <td>2018-19</td>\n",
       "      <td>36.08</td>\n",
       "    </tr>\n",
       "    <tr>\n",
       "      <th>Glenn</th>\n",
       "      <td>2018-19</td>\n",
       "      <td>35.40</td>\n",
       "    </tr>\n",
       "    <tr>\n",
       "      <th>Madera</th>\n",
       "      <td>2018-19</td>\n",
       "      <td>33.58</td>\n",
       "    </tr>\n",
       "    <tr>\n",
       "      <th>Sierra</th>\n",
       "      <td>2018-19</td>\n",
       "      <td>0.00</td>\n",
       "    </tr>\n",
       "    <tr>\n",
       "      <th>Alpine</th>\n",
       "      <td>2018-19</td>\n",
       "      <td>NaN</td>\n",
       "    </tr>\n",
       "  </tbody>\n",
       "</table>\n",
       "</div>"
      ],
      "text/plain": [
       "           year  pct_math_benchmark\n",
       "cname                              \n",
       "Merced  2018-19               36.08\n",
       "Glenn   2018-19               35.40\n",
       "Madera  2018-19               33.58\n",
       "Sierra  2018-19                0.00\n",
       "Alpine  2018-19                 NaN"
      ]
     },
     "execution_count": 199,
     "metadata": {},
     "output_type": "execute_result"
    }
   ],
   "source": [
    "sat_county[['year', 'cname','pct_math_benchmark']].groupby('cname').max().sort_values('pct_math_benchmark', ascending=False).tail(5)"
   ]
  },
  {
   "cell_type": "code",
   "execution_count": null,
   "metadata": {},
   "outputs": [],
   "source": []
  },
  {
   "cell_type": "markdown",
   "metadata": {},
   "source": [
    "**To-Do:** *Edit this cell with your findings on trends in the data (step 3 above).*"
   ]
  },
  {
   "cell_type": "markdown",
   "metadata": {},
   "source": [
    "## Visualize the Data\n",
    "\n",
    "There's not a magic bullet recommendation for the right number of plots to understand a given dataset, but visualizing your data is *always* a good idea. Not only does it allow you to quickly convey your findings (even if you have a non-technical audience), it will often reveal trends in your data that escaped you when you were looking only at numbers. It is important to not only create visualizations, but to **interpret your visualizations** as well.\n",
    "\n",
    "**Every plot should**:\n",
    "- Have a title\n",
    "- Have axis labels\n",
    "- Have appropriate tick labels\n",
    "- Text is legible in a plot\n",
    "- Plots demonstrate meaningful and valid relationships\n",
    "- Have an interpretation to aid understanding\n",
    "\n",
    "Here is an example of what your plots should look like following the above guidelines. Note that while the content of this example is unrelated, the principles of visualization hold:\n",
    "\n",
    "![](https://snag.gy/hCBR1U.jpg)\n",
    "*Interpretation: The above image shows that as we increase our spending on advertising, our sales numbers also tend to increase. There is a positive correlation between advertising spending and sales.*\n",
    "\n",
    "---\n",
    "\n",
    "Here are some prompts to get you started with visualizations. Feel free to add additional visualizations as you see fit:\n",
    "1. Use Seaborn's heatmap with pandas `.corr()` to visualize correlations between all numeric features.\n",
    "    - Heatmaps are generally not appropriate for presentations, and should often be excluded from reports as they can be visually overwhelming. **However**, they can be extremely useful in identify relationships of potential interest (as well as identifying potential collinearity before modeling).\n",
    "    - Please take time to format your output, adding a title. Look through some of the additional arguments and options. (Axis labels aren't really necessary, as long as the title is informative).\n",
    "2. Visualize distributions using histograms. If you have a lot, consider writing a custom function and use subplots.\n",
    "    - *OPTIONAL*: Summarize the underlying distributions of your features (in words & statistics)\n",
    "         - Be thorough in your verbal description of these distributions.\n",
    "         - Be sure to back up these summaries with statistics.\n",
    "         - We generally assume that data we sample from a population will be normally distributed. Do we observe this trend? Explain your answers for each distribution and how you think this will affect estimates made from these data.\n",
    "3. Plot and interpret boxplots. \n",
    "    - Boxplots demonstrate central tendency and spread in variables. In a certain sense, these are somewhat redundant with histograms, but you may be better able to identify clear outliers or differences in IQR, etc.\n",
    "    - Multiple values can be plotted to a single boxplot as long as they are of the same relative scale (meaning they have similar min/max values).\n",
    "    - Each boxplot should:\n",
    "        - Only include variables of a similar scale\n",
    "        - Have clear labels for each variable\n",
    "        - Have appropriate titles and labels\n",
    "4. Plot and interpret scatter plots to view relationships between features. Feel free to write a custom function, and subplot if you'd like. Functions save both time and space.\n",
    "    - Your plots should have:\n",
    "        - Two clearly labeled axes\n",
    "        - A proper title\n",
    "        - Colors and symbols that are clear and unmistakable\n",
    "5. Additional plots of your choosing.\n",
    "    - Are there any additional trends or relationships you haven't explored? Was there something interesting you saw that you'd like to dive further into? It's likely that there are a few more plots you might want to generate to support your narrative and recommendations that you are building toward. **As always, make sure you're interpreting your plots as you go**."
   ]
  },
  {
   "cell_type": "code",
   "execution_count": 273,
   "metadata": {
    "ExecuteTime": {
     "end_time": "2021-01-03T06:45:52.115448Z",
     "start_time": "2021-01-03T06:45:51.371611Z"
    }
   },
   "outputs": [
    {
     "data": {
      "image/png": "[encoded data removed]",
      "text/plain": [
       "<Figure size 864x360 with 1 Axes>"
      ]
     },
     "metadata": {
      "needs_background": "light"
     },
     "output_type": "display_data"
    }
   ],
   "source": [
    "plt.figure(figsize = (12, 5))\n",
    "# Scatter plot\n",
    "sns.scatterplot(data=sat_county,\n",
    "                x = county['cname'],\n",
    "                y = county['pct_both_benchmark'],\n",
    "                #hue = 'income',\n",
    "                marker = 'X',\n",
    "                alpha= 0.25)   # this sets transparency,\n",
    "                                    #advised between 0.10 and 0.5 depending on data\n",
    "\n",
    "# labels\n",
    "plt.title('Title')\n",
    "plt.xlabel('County')\n",
    "plt.ylabel('Percentage both pass on SAT');"
   ]
  },
  {
   "cell_type": "code",
   "execution_count": 246,
   "metadata": {
    "ExecuteTime": {
     "end_time": "2021-01-03T06:26:42.964026Z",
     "start_time": "2021-01-03T06:26:42.210647Z"
    }
   },
   "outputs": [
    {
     "data": {
      "image/png": "[encoded data removed]",
      "text/plain": [
       "<Figure size 864x360 with 1 Axes>"
      ]
     },
     "metadata": {
      "needs_background": "light"
     },
     "output_type": "display_data"
    }
   ],
   "source": [
    "plt.figure(figsize = (12, 5))\n",
    "\n",
    "# Scatter plot\n",
    "plt.scatter(x = county['cname'],\n",
    "            y = county['income'],\n",
    "           marker = 'x',\n",
    "           color = 'blue',\n",
    "           alpha= 0.25)   # this sets transparency,\n",
    "                                    #advised between 0.10 and 0.5 depending on data\n",
    "\n",
    "# labels\n",
    "plt.title('Title')\n",
    "plt.xlabel('County')\n",
    "plt.ylabel('Income pro capita');"
   ]
  },
  {
   "cell_type": "code",
   "execution_count": 222,
   "metadata": {
    "ExecuteTime": {
     "end_time": "2021-01-03T06:10:14.118273Z",
     "start_time": "2021-01-03T06:10:13.846758Z"
    }
   },
   "outputs": [
    {
     "data": {
      "image/png": "[encoded data removed]",
      "text/plain": [
       "<Figure size 1152x648 with 2 Axes>"
      ]
     },
     "metadata": {
      "needs_background": "light"
     },
     "output_type": "display_data"
    }
   ],
   "source": [
    "plt.figure(figsize= (16, 9))\n",
    "# Get correlation of variables.\n",
    "correlation = sat.corr()\n",
    "\n",
    "# Set up mask to be \"True\" in the upper triangle.\n",
    "mask = np.zeros_like(correlation)\n",
    "mask[np.triu_indices_from(mask)]= True\n",
    "# Plot our correlation heatmap, while masking the upper triangle to be white.\n",
    "sns.heatmap(data= correlation,       #data to plot\n",
    "            mask= mask,\n",
    "            square= True,      #boolean for asuqare plot or not\n",
    "            cmap= 'mako',      # color palette\n",
    "            annot = True);     # show values in "
   ]
  },
  {
   "cell_type": "markdown",
   "metadata": {},
   "source": [
    "## Conclusions and Recommendations"
   ]
  },
  {
   "cell_type": "markdown",
   "metadata": {},
   "source": [
    "Based on your exploration of the data, what are you key takeaways and recommendations? Make sure to answer your question of interest or address your problem statement here."
   ]
  },
  {
   "cell_type": "markdown",
   "metadata": {},
   "source": [
    "**To-Do:** *Edit this cell with your conclusions and recommendations.*"
   ]
  },
  {
   "cell_type": "markdown",
   "metadata": {},
   "source": [
    "Don't forget to create your README!\n",
    "\n",
    "**To-Do:** *If you combine your problem statement, data dictionary, brief summary of your analysis, and conclusions/recommendations, you have an amazing README.md file that quickly aligns your audience to the contents of your project.* Don't forget to cite your data sources!"
   ]
  }
 ],
 "metadata": {
  "anaconda-cloud": {},
  "kernelspec": {
   "display_name": "Python 3",
   "language": "python",
   "name": "python3"
  },
  "language_info": {
   "codemirror_mode": {
    "name": "ipython",
    "version": 3
   },
   "file_extension": ".py",
   "mimetype": "text/x-python",
   "name": "python",
   "nbconvert_exporter": "python",
   "pygments_lexer": "ipython3",
   "version": "3.8.5"
  }
 },
 "nbformat": 4,
 "nbformat_minor": 4
}
